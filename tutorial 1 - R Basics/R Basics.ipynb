{
 "cells": [
  {
   "cell_type": "markdown",
   "metadata": {},
   "source": [
    "# Wifi: Huntsman Password: aquateen"
   ]
  },
  {
   "cell_type": "markdown",
   "metadata": {},
   "source": [
    "# About R\n",
    "\n",
    "R is a 'high level' programming language targeting the statistical community. It has comprehensive support for most statistical or mathematical operations researchers or practitioners might need.\n",
    "\n",
    "Around since 1993 (or longer if you count S its predecessor). Inspired by Scheme which is functional programming language (a variant of Lisp) and an extension to S which has been around for a very long time.\n",
    "\n",
    "R was used for a big part by biologists who have had a huge influence on the language and its packages. Bioconductor is one of the main places to get R packages from to date.\n",
    "\n",
    "R looks a bit like C or Fortran, feels a bit like Python and behaves a bit like Lisp.\n",
    "\n",
    "How to install: https://cran.r-project.org"
   ]
  },
  {
   "cell_type": "markdown",
   "metadata": {},
   "source": [
    "# What I love about R\n",
    "* Super easy to get started - help(\"something\") will get you far\n",
    "* The number of libraries is staggering, sharing is easy through CRAN\n",
    "* The community is great\n",
    "* R is open source\n",
    "* R is a lisp at core\n",
    "* Very powerful plotting of everything\n",
    "* Packages such as magrittr and dplyr vastly change how R code can be written"
   ]
  },
  {
   "cell_type": "markdown",
   "metadata": {},
   "source": [
    "# What I like about R\n",
    "* R is an actual programming language unlike STATA etc.\n",
    "* R's origin's are in the statistical community\n",
    "* R integrates well with other languages (arguably also a weakness)"
   ]
  },
  {
   "cell_type": "markdown",
   "metadata": {},
   "source": [
    "# What I hate about R\n",
    "* Kind of hard to write well organized code\n",
    "* Type conversion can feel awkward\n",
    "* Multithreading/processing is cumbersome, pre-multiprocessing times\n",
    "* Super bad performance of loops\n",
    "* R doesnt have good support for formal algebra (afaik)\n",
    "* The culture around good R coding style is young and not yet established\n",
    "* Bad object orientation: S3 objects are ugly, S4 objects are worse\n",
    "* Heavy reliance FORTRAN, C or other 'obscure' languages which dont integrate well with R's API"
   ]
  },
  {
   "cell_type": "markdown",
   "metadata": {},
   "source": [
    "# What we will get into\n",
    "\n",
    "* Basics of programming in R\n",
    "* Basic data types in R\n",
    "\n",
    "In the next tutorial we will cover:\n",
    "* Reading data\n",
    "* Creating random data\n",
    "* Cleaning it up\n",
    "* Defining and running statistical models\n",
    "* Plotting"
   ]
  },
  {
   "cell_type": "markdown",
   "metadata": {},
   "source": [
    "## Other (statistical) languages I find interesting\n",
    "\n",
    "* Python\n",
    "* Julia\n",
    "* Octave/Matlab"
   ]
  },
  {
   "cell_type": "markdown",
   "metadata": {},
   "source": [
    "# Loading libraries"
   ]
  },
  {
   "cell_type": "code",
   "execution_count": 44,
   "metadata": {
    "collapsed": true
   },
   "outputs": [],
   "source": [
    "library(datasets)"
   ]
  },
  {
   "cell_type": "markdown",
   "metadata": {},
   "source": [
    "# Variable Assignment"
   ]
  },
  {
   "cell_type": "code",
   "execution_count": 45,
   "metadata": {},
   "outputs": [
    {
     "data": {
      "text/html": [
       "3"
      ],
      "text/latex": [
       "3"
      ],
      "text/markdown": [
       "3"
      ],
      "text/plain": [
       "[1] 3"
      ]
     },
     "metadata": {},
     "output_type": "display_data"
    }
   ],
   "source": [
    "1 + 2"
   ]
  },
  {
   "cell_type": "code",
   "execution_count": 46,
   "metadata": {},
   "outputs": [
    {
     "data": {
      "text/html": [
       "6"
      ],
      "text/latex": [
       "6"
      ],
      "text/markdown": [
       "6"
      ],
      "text/plain": [
       "[1] 6"
      ]
     },
     "metadata": {},
     "output_type": "display_data"
    }
   ],
   "source": [
    "2 * 3"
   ]
  },
  {
   "cell_type": "code",
   "execution_count": 47,
   "metadata": {},
   "outputs": [
    {
     "data": {
      "text/html": [
       "8"
      ],
      "text/latex": [
       "8"
      ],
      "text/markdown": [
       "8"
      ],
      "text/plain": [
       "[1] 8"
      ]
     },
     "metadata": {},
     "output_type": "display_data"
    }
   ],
   "source": [
    "2^3"
   ]
  },
  {
   "cell_type": "code",
   "execution_count": 48,
   "metadata": {},
   "outputs": [
    {
     "data": {
      "text/html": [
       "0.333333333333333"
      ],
      "text/latex": [
       "0.333333333333333"
      ],
      "text/markdown": [
       "0.333333333333333"
      ],
      "text/plain": [
       "[1] 0.3333333"
      ]
     },
     "metadata": {},
     "output_type": "display_data"
    }
   ],
   "source": [
    "1/3"
   ]
  },
  {
   "cell_type": "code",
   "execution_count": 54,
   "metadata": {
    "collapsed": true
   },
   "outputs": [],
   "source": [
    "a = 10"
   ]
  },
  {
   "cell_type": "code",
   "execution_count": 55,
   "metadata": {},
   "outputs": [
    {
     "data": {
      "text/html": [
       "10"
      ],
      "text/latex": [
       "10"
      ],
      "text/markdown": [
       "10"
      ],
      "text/plain": [
       "[1] 10"
      ]
     },
     "metadata": {},
     "output_type": "display_data"
    }
   ],
   "source": [
    "a"
   ]
  },
  {
   "cell_type": "code",
   "execution_count": 52,
   "metadata": {
    "collapsed": true
   },
   "outputs": [],
   "source": [
    "a <- 10"
   ]
  },
  {
   "cell_type": "code",
   "execution_count": 53,
   "metadata": {
    "collapsed": true
   },
   "outputs": [],
   "source": [
    "10 -> a"
   ]
  },
  {
   "cell_type": "code",
   "execution_count": 56,
   "metadata": {
    "collapsed": true
   },
   "outputs": [],
   "source": [
    "b <- 20"
   ]
  },
  {
   "cell_type": "code",
   "execution_count": 57,
   "metadata": {},
   "outputs": [
    {
     "data": {
      "text/html": [
       "20"
      ],
      "text/latex": [
       "20"
      ],
      "text/markdown": [
       "20"
      ],
      "text/plain": [
       "[1] 20"
      ]
     },
     "metadata": {},
     "output_type": "display_data"
    }
   ],
   "source": [
    "b"
   ]
  },
  {
   "cell_type": "code",
   "execution_count": 58,
   "metadata": {},
   "outputs": [
    {
     "data": {
      "text/html": [
       "30"
      ],
      "text/latex": [
       "30"
      ],
      "text/markdown": [
       "30"
      ],
      "text/plain": [
       "[1] 30"
      ]
     },
     "metadata": {},
     "output_type": "display_data"
    }
   ],
   "source": [
    "a + b"
   ]
  },
  {
   "cell_type": "code",
   "execution_count": 63,
   "metadata": {
    "collapsed": true
   },
   "outputs": [],
   "source": [
    "vec <- c(1,2,3)"
   ]
  },
  {
   "cell_type": "code",
   "execution_count": 62,
   "metadata": {},
   "outputs": [
    {
     "data": {
      "text/html": [
       "<ol class=list-inline>\n",
       "\t<li>1</li>\n",
       "\t<li>2</li>\n",
       "\t<li>3</li>\n",
       "</ol>\n"
      ],
      "text/latex": [
       "\\begin{enumerate*}\n",
       "\\item 1\n",
       "\\item 2\n",
       "\\item 3\n",
       "\\end{enumerate*}\n"
      ],
      "text/markdown": [
       "1. 1\n",
       "2. 2\n",
       "3. 3\n",
       "\n",
       "\n"
      ],
      "text/plain": [
       "[1] 1 2 3"
      ]
     },
     "metadata": {},
     "output_type": "display_data"
    }
   ],
   "source": [
    "vec"
   ]
  },
  {
   "cell_type": "code",
   "execution_count": 64,
   "metadata": {
    "collapsed": true
   },
   "outputs": [],
   "source": [
    "x <- c(1,2,3,4,5,6,7,8,9,10)"
   ]
  },
  {
   "cell_type": "code",
   "execution_count": 65,
   "metadata": {},
   "outputs": [
    {
     "data": {
      "text/html": [
       "<ol class=list-inline>\n",
       "\t<li>1</li>\n",
       "\t<li>2</li>\n",
       "\t<li>3</li>\n",
       "\t<li>4</li>\n",
       "\t<li>5</li>\n",
       "\t<li>6</li>\n",
       "\t<li>7</li>\n",
       "\t<li>8</li>\n",
       "\t<li>9</li>\n",
       "\t<li>10</li>\n",
       "</ol>\n"
      ],
      "text/latex": [
       "\\begin{enumerate*}\n",
       "\\item 1\n",
       "\\item 2\n",
       "\\item 3\n",
       "\\item 4\n",
       "\\item 5\n",
       "\\item 6\n",
       "\\item 7\n",
       "\\item 8\n",
       "\\item 9\n",
       "\\item 10\n",
       "\\end{enumerate*}\n"
      ],
      "text/markdown": [
       "1. 1\n",
       "2. 2\n",
       "3. 3\n",
       "4. 4\n",
       "5. 5\n",
       "6. 6\n",
       "7. 7\n",
       "8. 8\n",
       "9. 9\n",
       "10. 10\n",
       "\n",
       "\n"
      ],
      "text/plain": [
       " [1]  1  2  3  4  5  6  7  8  9 10"
      ]
     },
     "metadata": {},
     "output_type": "display_data"
    }
   ],
   "source": [
    "x"
   ]
  },
  {
   "cell_type": "code",
   "execution_count": 68,
   "metadata": {
    "collapsed": true
   },
   "outputs": [],
   "source": [
    "x <- 1:10"
   ]
  },
  {
   "cell_type": "code",
   "execution_count": 67,
   "metadata": {},
   "outputs": [
    {
     "data": {
      "text/html": [
       "<ol class=list-inline>\n",
       "\t<li>1</li>\n",
       "\t<li>2</li>\n",
       "\t<li>3</li>\n",
       "\t<li>4</li>\n",
       "\t<li>5</li>\n",
       "\t<li>6</li>\n",
       "\t<li>7</li>\n",
       "\t<li>8</li>\n",
       "\t<li>9</li>\n",
       "\t<li>10</li>\n",
       "</ol>\n"
      ],
      "text/latex": [
       "\\begin{enumerate*}\n",
       "\\item 1\n",
       "\\item 2\n",
       "\\item 3\n",
       "\\item 4\n",
       "\\item 5\n",
       "\\item 6\n",
       "\\item 7\n",
       "\\item 8\n",
       "\\item 9\n",
       "\\item 10\n",
       "\\end{enumerate*}\n"
      ],
      "text/markdown": [
       "1. 1\n",
       "2. 2\n",
       "3. 3\n",
       "4. 4\n",
       "5. 5\n",
       "6. 6\n",
       "7. 7\n",
       "8. 8\n",
       "9. 9\n",
       "10. 10\n",
       "\n",
       "\n"
      ],
      "text/plain": [
       " [1]  1  2  3  4  5  6  7  8  9 10"
      ]
     },
     "metadata": {},
     "output_type": "display_data"
    }
   ],
   "source": [
    "x"
   ]
  },
  {
   "cell_type": "code",
   "execution_count": 69,
   "metadata": {
    "collapsed": true
   },
   "outputs": [],
   "source": [
    "x <- seq(1,10)"
   ]
  },
  {
   "cell_type": "code",
   "execution_count": 70,
   "metadata": {},
   "outputs": [
    {
     "data": {
      "text/html": [
       "<ol class=list-inline>\n",
       "\t<li>1</li>\n",
       "\t<li>2</li>\n",
       "\t<li>3</li>\n",
       "\t<li>4</li>\n",
       "\t<li>5</li>\n",
       "\t<li>6</li>\n",
       "\t<li>7</li>\n",
       "\t<li>8</li>\n",
       "\t<li>9</li>\n",
       "\t<li>10</li>\n",
       "</ol>\n"
      ],
      "text/latex": [
       "\\begin{enumerate*}\n",
       "\\item 1\n",
       "\\item 2\n",
       "\\item 3\n",
       "\\item 4\n",
       "\\item 5\n",
       "\\item 6\n",
       "\\item 7\n",
       "\\item 8\n",
       "\\item 9\n",
       "\\item 10\n",
       "\\end{enumerate*}\n"
      ],
      "text/markdown": [
       "1. 1\n",
       "2. 2\n",
       "3. 3\n",
       "4. 4\n",
       "5. 5\n",
       "6. 6\n",
       "7. 7\n",
       "8. 8\n",
       "9. 9\n",
       "10. 10\n",
       "\n",
       "\n"
      ],
      "text/plain": [
       " [1]  1  2  3  4  5  6  7  8  9 10"
      ]
     },
     "metadata": {},
     "output_type": "display_data"
    }
   ],
   "source": [
    "x"
   ]
  },
  {
   "cell_type": "code",
   "execution_count": 73,
   "metadata": {},
   "outputs": [],
   "source": [
    "?seq"
   ]
  },
  {
   "cell_type": "code",
   "execution_count": 74,
   "metadata": {
    "collapsed": true
   },
   "outputs": [],
   "source": [
    "character.vec <- c('a word', 'and another')"
   ]
  },
  {
   "cell_type": "code",
   "execution_count": 75,
   "metadata": {},
   "outputs": [
    {
     "data": {
      "text/html": [
       "<ol class=list-inline>\n",
       "\t<li>'a word'</li>\n",
       "\t<li>'and another'</li>\n",
       "</ol>\n"
      ],
      "text/latex": [
       "\\begin{enumerate*}\n",
       "\\item 'a word'\n",
       "\\item 'and another'\n",
       "\\end{enumerate*}\n"
      ],
      "text/markdown": [
       "1. 'a word'\n",
       "2. 'and another'\n",
       "\n",
       "\n"
      ],
      "text/plain": [
       "[1] \"a word\"      \"and another\""
      ]
     },
     "metadata": {},
     "output_type": "display_data"
    }
   ],
   "source": [
    "character.vec"
   ]
  },
  {
   "cell_type": "code",
   "execution_count": 76,
   "metadata": {},
   "outputs": [
    {
     "data": {
      "text/html": [
       "<ol class=list-inline>\n",
       "\t<li>1</li>\n",
       "\t<li>2</li>\n",
       "\t<li>3</li>\n",
       "\t<li>4</li>\n",
       "\t<li>5</li>\n",
       "\t<li>6</li>\n",
       "\t<li>7</li>\n",
       "\t<li>8</li>\n",
       "\t<li>9</li>\n",
       "\t<li>10</li>\n",
       "</ol>\n"
      ],
      "text/latex": [
       "\\begin{enumerate*}\n",
       "\\item 1\n",
       "\\item 2\n",
       "\\item 3\n",
       "\\item 4\n",
       "\\item 5\n",
       "\\item 6\n",
       "\\item 7\n",
       "\\item 8\n",
       "\\item 9\n",
       "\\item 10\n",
       "\\end{enumerate*}\n"
      ],
      "text/markdown": [
       "1. 1\n",
       "2. 2\n",
       "3. 3\n",
       "4. 4\n",
       "5. 5\n",
       "6. 6\n",
       "7. 7\n",
       "8. 8\n",
       "9. 9\n",
       "10. 10\n",
       "\n",
       "\n"
      ],
      "text/plain": [
       " [1]  1  2  3  4  5  6  7  8  9 10"
      ]
     },
     "metadata": {},
     "output_type": "display_data"
    }
   ],
   "source": [
    "x"
   ]
  },
  {
   "cell_type": "code",
   "execution_count": 79,
   "metadata": {
    "collapsed": true
   },
   "outputs": [],
   "source": [
    "y <- x*2"
   ]
  },
  {
   "cell_type": "code",
   "execution_count": 78,
   "metadata": {},
   "outputs": [
    {
     "data": {
      "text/html": [
       "<ol class=list-inline>\n",
       "\t<li>2</li>\n",
       "\t<li>4</li>\n",
       "\t<li>6</li>\n",
       "\t<li>8</li>\n",
       "\t<li>10</li>\n",
       "\t<li>12</li>\n",
       "\t<li>14</li>\n",
       "\t<li>16</li>\n",
       "\t<li>18</li>\n",
       "\t<li>20</li>\n",
       "</ol>\n"
      ],
      "text/latex": [
       "\\begin{enumerate*}\n",
       "\\item 2\n",
       "\\item 4\n",
       "\\item 6\n",
       "\\item 8\n",
       "\\item 10\n",
       "\\item 12\n",
       "\\item 14\n",
       "\\item 16\n",
       "\\item 18\n",
       "\\item 20\n",
       "\\end{enumerate*}\n"
      ],
      "text/markdown": [
       "1. 2\n",
       "2. 4\n",
       "3. 6\n",
       "4. 8\n",
       "5. 10\n",
       "6. 12\n",
       "7. 14\n",
       "8. 16\n",
       "9. 18\n",
       "10. 20\n",
       "\n",
       "\n"
      ],
      "text/plain": [
       " [1]  2  4  6  8 10 12 14 16 18 20"
      ]
     },
     "metadata": {},
     "output_type": "display_data"
    }
   ],
   "source": [
    "y"
   ]
  },
  {
   "cell_type": "code",
   "execution_count": 81,
   "metadata": {},
   "outputs": [
    {
     "data": {
      "text/html": [
       "3"
      ],
      "text/latex": [
       "3"
      ],
      "text/markdown": [
       "3"
      ],
      "text/plain": [
       "[1] 3"
      ]
     },
     "metadata": {},
     "output_type": "display_data"
    }
   ],
   "source": [
    "x[3]"
   ]
  },
  {
   "cell_type": "code",
   "execution_count": 84,
   "metadata": {},
   "outputs": [
    {
     "data": {
      "text/html": [
       "<ol class=list-inline>\n",
       "\t<li>1</li>\n",
       "\t<li>2</li>\n",
       "\t<li>3</li>\n",
       "</ol>\n"
      ],
      "text/latex": [
       "\\begin{enumerate*}\n",
       "\\item 1\n",
       "\\item 2\n",
       "\\item 3\n",
       "\\end{enumerate*}\n"
      ],
      "text/markdown": [
       "1. 1\n",
       "2. 2\n",
       "3. 3\n",
       "\n",
       "\n"
      ],
      "text/plain": [
       "[1] 1 2 3"
      ]
     },
     "metadata": {},
     "output_type": "display_data"
    }
   ],
   "source": [
    "x[1:3]"
   ]
  },
  {
   "cell_type": "code",
   "execution_count": 92,
   "metadata": {},
   "outputs": [],
   "source": [
    "x[0:3] <- c(9, 8, 7)"
   ]
  },
  {
   "cell_type": "code",
   "execution_count": 101,
   "metadata": {},
   "outputs": [
    {
     "data": {
      "text/html": [
       "<ol class=list-inline>\n",
       "\t<li>9</li>\n",
       "\t<li>8</li>\n",
       "\t<li>7</li>\n",
       "\t<li>4</li>\n",
       "\t<li>5</li>\n",
       "\t<li>6</li>\n",
       "\t<li>7</li>\n",
       "\t<li>8</li>\n",
       "\t<li>9</li>\n",
       "\t<li>10</li>\n",
       "</ol>\n"
      ],
      "text/latex": [
       "\\begin{enumerate*}\n",
       "\\item 9\n",
       "\\item 8\n",
       "\\item 7\n",
       "\\item 4\n",
       "\\item 5\n",
       "\\item 6\n",
       "\\item 7\n",
       "\\item 8\n",
       "\\item 9\n",
       "\\item 10\n",
       "\\end{enumerate*}\n"
      ],
      "text/markdown": [
       "1. 9\n",
       "2. 8\n",
       "3. 7\n",
       "4. 4\n",
       "5. 5\n",
       "6. 6\n",
       "7. 7\n",
       "8. 8\n",
       "9. 9\n",
       "10. 10\n",
       "\n",
       "\n"
      ],
      "text/plain": [
       " [1]  9  8  7  4  5  6  7  8  9 10"
      ]
     },
     "metadata": {},
     "output_type": "display_data"
    }
   ],
   "source": [
    "x"
   ]
  },
  {
   "cell_type": "markdown",
   "metadata": {},
   "source": [
    "# Plotting"
   ]
  },
  {
   "cell_type": "code",
   "execution_count": 102,
   "metadata": {},
   "outputs": [
    {
     "data": {
      "image/png": "[encoded data removed]",
      "text/plain": [
       "plot without title"
      ]
     },
     "metadata": {},
     "output_type": "display_data"
    }
   ],
   "source": [
    "plot(x,y)"
   ]
  },
  {
   "cell_type": "code",
   "execution_count": 103,
   "metadata": {},
   "outputs": [
    {
     "data": {
      "image/png": "[encoded data removed]",
      "text/plain": [
       "plot without title"
      ]
     },
     "metadata": {},
     "output_type": "display_data"
    }
   ],
   "source": [
    "plot(x,y, type='l')"
   ]
  },
  {
   "cell_type": "code",
   "execution_count": 104,
   "metadata": {
    "collapsed": true
   },
   "outputs": [],
   "source": [
    "?plot"
   ]
  },
  {
   "cell_type": "markdown",
   "metadata": {},
   "source": [
    "# Control Structures"
   ]
  },
  {
   "cell_type": "markdown",
   "metadata": {},
   "source": [
    "## If - Else"
   ]
  },
  {
   "cell_type": "code",
   "execution_count": 105,
   "metadata": {},
   "outputs": [
    {
     "data": {
      "text/html": [
       "<ol class=list-inline>\n",
       "\t<li>9</li>\n",
       "\t<li>8</li>\n",
       "\t<li>7</li>\n",
       "\t<li>4</li>\n",
       "\t<li>5</li>\n",
       "\t<li>6</li>\n",
       "\t<li>7</li>\n",
       "\t<li>8</li>\n",
       "\t<li>9</li>\n",
       "\t<li>10</li>\n",
       "</ol>\n"
      ],
      "text/latex": [
       "\\begin{enumerate*}\n",
       "\\item 9\n",
       "\\item 8\n",
       "\\item 7\n",
       "\\item 4\n",
       "\\item 5\n",
       "\\item 6\n",
       "\\item 7\n",
       "\\item 8\n",
       "\\item 9\n",
       "\\item 10\n",
       "\\end{enumerate*}\n"
      ],
      "text/markdown": [
       "1. 9\n",
       "2. 8\n",
       "3. 7\n",
       "4. 4\n",
       "5. 5\n",
       "6. 6\n",
       "7. 7\n",
       "8. 8\n",
       "9. 9\n",
       "10. 10\n",
       "\n",
       "\n"
      ],
      "text/plain": [
       " [1]  9  8  7  4  5  6  7  8  9 10"
      ]
     },
     "metadata": {},
     "output_type": "display_data"
    }
   ],
   "source": [
    "x"
   ]
  },
  {
   "cell_type": "code",
   "execution_count": 108,
   "metadata": {},
   "outputs": [
    {
     "name": "stdout",
     "output_type": "stream",
     "text": [
      "[1] \"x is a vector\"\n"
     ]
    }
   ],
   "source": [
    "if (is.vector(x))\n",
    "    print('x is a vector')"
   ]
  },
  {
   "cell_type": "code",
   "execution_count": 111,
   "metadata": {},
   "outputs": [
    {
     "data": {
      "text/html": [
       "10"
      ],
      "text/latex": [
       "10"
      ],
      "text/markdown": [
       "10"
      ],
      "text/plain": [
       "[1] 10"
      ]
     },
     "metadata": {},
     "output_type": "display_data"
    }
   ],
   "source": [
    "a"
   ]
  },
  {
   "cell_type": "code",
   "execution_count": 117,
   "metadata": {},
   "outputs": [
    {
     "name": "stdout",
     "output_type": "stream",
     "text": [
      "[1] \"a is also a vector\"\n"
     ]
    }
   ],
   "source": [
    "if (!is.vector(a)) {\n",
    "        print('a is not a vector')\n",
    "    } else {\n",
    "        print('a is also a vector')\n",
    "    }"
   ]
  },
  {
   "cell_type": "markdown",
   "metadata": {},
   "source": [
    "## Loops"
   ]
  },
  {
   "cell_type": "code",
   "execution_count": 123,
   "metadata": {},
   "outputs": [
    {
     "name": "stdout",
     "output_type": "stream",
     "text": [
      "This is how loops work. I is:  1 \n",
      "This is how loops work. I is:  2 \n",
      "This is how loops work. I is:  3 \n"
     ]
    }
   ],
   "source": [
    "for (i in 1:3) {\n",
    "    cat('This is how loops work. I is: ', i, '\\n')\n",
    "}"
   ]
  },
  {
   "cell_type": "code",
   "execution_count": 119,
   "metadata": {
    "collapsed": true
   },
   "outputs": [],
   "source": [
    "?cat"
   ]
  },
  {
   "cell_type": "code",
   "execution_count": 124,
   "metadata": {},
   "outputs": [
    {
     "name": "stdout",
     "output_type": "stream",
     "text": [
      "[1] \"run first simulation\"\n",
      "[1] \"run second simulation\"\n",
      "[1] \"run second simulation\"\n"
     ]
    }
   ],
   "source": [
    "for (i in 1:3) {\n",
    "    if (i == 1) {\n",
    "        print('run first simulation')\n",
    "    } else {\n",
    "        print('run second simulation')\n",
    "    }\n",
    "    \n",
    "}"
   ]
  },
  {
   "cell_type": "markdown",
   "metadata": {},
   "source": [
    "## Functions"
   ]
  },
  {
   "cell_type": "code",
   "execution_count": 130,
   "metadata": {
    "collapsed": true
   },
   "outputs": [],
   "source": [
    "example.function <- function() {\n",
    "    print('This is an example function which does nothing but print this text')\n",
    "    print(a)\n",
    "}"
   ]
  },
  {
   "cell_type": "code",
   "execution_count": 131,
   "metadata": {},
   "outputs": [
    {
     "name": "stdout",
     "output_type": "stream",
     "text": [
      "[1] \"This is an example function which does nothing but print this text\"\n",
      "[1] 10\n"
     ]
    }
   ],
   "source": [
    "example.function()"
   ]
  },
  {
   "cell_type": "code",
   "execution_count": 132,
   "metadata": {
    "collapsed": true
   },
   "outputs": [],
   "source": [
    "square <- function(x) {\n",
    "    return (x^2);\n",
    "}"
   ]
  },
  {
   "cell_type": "code",
   "execution_count": 136,
   "metadata": {},
   "outputs": [
    {
     "data": {
      "text/html": [
       "9"
      ],
      "text/latex": [
       "9"
      ],
      "text/markdown": [
       "9"
      ],
      "text/plain": [
       "[1] 9"
      ]
     },
     "metadata": {},
     "output_type": "display_data"
    }
   ],
   "source": [
    "square(3)"
   ]
  },
  {
   "cell_type": "code",
   "execution_count": 137,
   "metadata": {},
   "outputs": [
    {
     "data": {
      "text/html": [
       "<ol class=list-inline>\n",
       "\t<li>1</li>\n",
       "\t<li>9</li>\n",
       "\t<li>36</li>\n",
       "</ol>\n"
      ],
      "text/latex": [
       "\\begin{enumerate*}\n",
       "\\item 1\n",
       "\\item 9\n",
       "\\item 36\n",
       "\\end{enumerate*}\n"
      ],
      "text/markdown": [
       "1. 1\n",
       "2. 9\n",
       "3. 36\n",
       "\n",
       "\n"
      ],
      "text/plain": [
       "[1]  1  9 36"
      ]
     },
     "metadata": {},
     "output_type": "display_data"
    }
   ],
   "source": [
    "square(c(1,3,6))"
   ]
  },
  {
   "cell_type": "markdown",
   "metadata": {},
   "source": [
    "$$x_t = x_0 (1+r)^t$$"
   ]
  },
  {
   "cell_type": "code",
   "execution_count": 146,
   "metadata": {},
   "outputs": [
    {
     "data": {
      "text/html": [
       "5869542643.98479"
      ],
      "text/latex": [
       "5869542643.98479"
      ],
      "text/markdown": [
       "5869542643.98479"
      ],
      "text/plain": [
       "[1] 5869542644"
      ]
     },
     "metadata": {},
     "output_type": "display_data"
    }
   ],
   "source": [
    "exponential.returns <- function(interest, years) {\n",
    "    return ((1+interest)^years);\n",
    "}\n",
    "\n",
    "50000000 * exponential.returns(0.10, 50)\n",
    "?round"
   ]
  },
  {
   "cell_type": "markdown",
   "metadata": {},
   "source": [
    "# Matrices and Data Frames - slicing and dicing"
   ]
  },
  {
   "cell_type": "markdown",
   "metadata": {},
   "source": [
    "## Matrices"
   ]
  },
  {
   "cell_type": "code",
   "execution_count": 147,
   "metadata": {
    "collapsed": true
   },
   "outputs": [],
   "source": [
    "?matrix"
   ]
  },
  {
   "cell_type": "code",
   "execution_count": 153,
   "metadata": {},
   "outputs": [],
   "source": [
    "matr <- matrix(1:100, nrow=5)"
   ]
  },
  {
   "cell_type": "code",
   "execution_count": 154,
   "metadata": {},
   "outputs": [
    {
     "data": {
      "text/html": [
       "<table>\n",
       "<tbody>\n",
       "\t<tr><td>1  </td><td> 6 </td><td>11 </td><td>16 </td><td>21 </td><td>26 </td><td>31 </td><td>36 </td><td>41 </td><td>46 </td><td>51 </td><td>56 </td><td>61 </td><td>66 </td><td>71 </td><td>76 </td><td>81 </td><td>86 </td><td>91 </td><td> 96</td></tr>\n",
       "\t<tr><td>2  </td><td> 7 </td><td>12 </td><td>17 </td><td>22 </td><td>27 </td><td>32 </td><td>37 </td><td>42 </td><td>47 </td><td>52 </td><td>57 </td><td>62 </td><td>67 </td><td>72 </td><td>77 </td><td>82 </td><td>87 </td><td>92 </td><td> 97</td></tr>\n",
       "\t<tr><td>3  </td><td> 8 </td><td>13 </td><td>18 </td><td>23 </td><td>28 </td><td>33 </td><td>38 </td><td>43 </td><td>48 </td><td>53 </td><td>58 </td><td>63 </td><td>68 </td><td>73 </td><td>78 </td><td>83 </td><td>88 </td><td>93 </td><td> 98</td></tr>\n",
       "\t<tr><td>4  </td><td> 9 </td><td>14 </td><td>19 </td><td>24 </td><td>29 </td><td>34 </td><td>39 </td><td>44 </td><td>49 </td><td>54 </td><td>59 </td><td>64 </td><td>69 </td><td>74 </td><td>79 </td><td>84 </td><td>89 </td><td>94 </td><td> 99</td></tr>\n",
       "\t<tr><td>5  </td><td>10 </td><td>15 </td><td>20 </td><td>25 </td><td>30 </td><td>35 </td><td>40 </td><td>45 </td><td>50 </td><td>55 </td><td>60 </td><td>65 </td><td>70 </td><td>75 </td><td>80 </td><td>85 </td><td>90 </td><td>95 </td><td>100</td></tr>\n",
       "</tbody>\n",
       "</table>\n"
      ],
      "text/latex": [
       "\\begin{tabular}{llllllllllllllllllll}\n",
       "\t 1   &  6  & 11  & 16  & 21  & 26  & 31  & 36  & 41  & 46  & 51  & 56  & 61  & 66  & 71  & 76  & 81  & 86  & 91  &  96\\\\\n",
       "\t 2   &  7  & 12  & 17  & 22  & 27  & 32  & 37  & 42  & 47  & 52  & 57  & 62  & 67  & 72  & 77  & 82  & 87  & 92  &  97\\\\\n",
       "\t 3   &  8  & 13  & 18  & 23  & 28  & 33  & 38  & 43  & 48  & 53  & 58  & 63  & 68  & 73  & 78  & 83  & 88  & 93  &  98\\\\\n",
       "\t 4   &  9  & 14  & 19  & 24  & 29  & 34  & 39  & 44  & 49  & 54  & 59  & 64  & 69  & 74  & 79  & 84  & 89  & 94  &  99\\\\\n",
       "\t 5   & 10  & 15  & 20  & 25  & 30  & 35  & 40  & 45  & 50  & 55  & 60  & 65  & 70  & 75  & 80  & 85  & 90  & 95  & 100\\\\\n",
       "\\end{tabular}\n"
      ],
      "text/markdown": [
       "\n",
       "| 1   |  6  | 11  | 16  | 21  | 26  | 31  | 36  | 41  | 46  | 51  | 56  | 61  | 66  | 71  | 76  | 81  | 86  | 91  |  96 | \n",
       "| 2   |  7  | 12  | 17  | 22  | 27  | 32  | 37  | 42  | 47  | 52  | 57  | 62  | 67  | 72  | 77  | 82  | 87  | 92  |  97 | \n",
       "| 3   |  8  | 13  | 18  | 23  | 28  | 33  | 38  | 43  | 48  | 53  | 58  | 63  | 68  | 73  | 78  | 83  | 88  | 93  |  98 | \n",
       "| 4   |  9  | 14  | 19  | 24  | 29  | 34  | 39  | 44  | 49  | 54  | 59  | 64  | 69  | 74  | 79  | 84  | 89  | 94  |  99 | \n",
       "| 5   | 10  | 15  | 20  | 25  | 30  | 35  | 40  | 45  | 50  | 55  | 60  | 65  | 70  | 75  | 80  | 85  | 90  | 95  | 100 | \n",
       "\n",
       "\n"
      ],
      "text/plain": [
       "     [,1] [,2] [,3] [,4] [,5] [,6] [,7] [,8] [,9] [,10] [,11] [,12] [,13] [,14]\n",
       "[1,] 1     6   11   16   21   26   31   36   41   46    51    56    61    66   \n",
       "[2,] 2     7   12   17   22   27   32   37   42   47    52    57    62    67   \n",
       "[3,] 3     8   13   18   23   28   33   38   43   48    53    58    63    68   \n",
       "[4,] 4     9   14   19   24   29   34   39   44   49    54    59    64    69   \n",
       "[5,] 5    10   15   20   25   30   35   40   45   50    55    60    65    70   \n",
       "     [,15] [,16] [,17] [,18] [,19] [,20]\n",
       "[1,] 71    76    81    86    91     96  \n",
       "[2,] 72    77    82    87    92     97  \n",
       "[3,] 73    78    83    88    93     98  \n",
       "[4,] 74    79    84    89    94     99  \n",
       "[5,] 75    80    85    90    95    100  "
      ]
     },
     "metadata": {},
     "output_type": "display_data"
    }
   ],
   "source": [
    "matr"
   ]
  },
  {
   "cell_type": "code",
   "execution_count": 155,
   "metadata": {},
   "outputs": [
    {
     "data": {
      "text/html": [
       "<table>\n",
       "<tbody>\n",
       "\t<tr><td>6 </td><td>11</td><td>16</td></tr>\n",
       "\t<tr><td>7 </td><td>12</td><td>17</td></tr>\n",
       "\t<tr><td>8 </td><td>13</td><td>18</td></tr>\n",
       "</tbody>\n",
       "</table>\n"
      ],
      "text/latex": [
       "\\begin{tabular}{lll}\n",
       "\t 6  & 11 & 16\\\\\n",
       "\t 7  & 12 & 17\\\\\n",
       "\t 8  & 13 & 18\\\\\n",
       "\\end{tabular}\n"
      ],
      "text/markdown": [
       "\n",
       "| 6  | 11 | 16 | \n",
       "| 7  | 12 | 17 | \n",
       "| 8  | 13 | 18 | \n",
       "\n",
       "\n"
      ],
      "text/plain": [
       "     [,1] [,2] [,3]\n",
       "[1,] 6    11   16  \n",
       "[2,] 7    12   17  \n",
       "[3,] 8    13   18  "
      ]
     },
     "metadata": {},
     "output_type": "display_data"
    }
   ],
   "source": [
    "matr[1:3, 2:4]"
   ]
  },
  {
   "cell_type": "markdown",
   "metadata": {},
   "source": [
    "### Matrix Operations"
   ]
  },
  {
   "cell_type": "code",
   "execution_count": 156,
   "metadata": {
    "collapsed": true
   },
   "outputs": [],
   "source": [
    "A <- matrix(1:10, nrow=5)"
   ]
  },
  {
   "cell_type": "code",
   "execution_count": 158,
   "metadata": {
    "collapsed": true
   },
   "outputs": [],
   "source": [
    "B <- matrix(11:20, nrow=2)"
   ]
  },
  {
   "cell_type": "code",
   "execution_count": 157,
   "metadata": {},
   "outputs": [
    {
     "data": {
      "text/html": [
       "<table>\n",
       "<tbody>\n",
       "\t<tr><td>1 </td><td> 6</td></tr>\n",
       "\t<tr><td>2 </td><td> 7</td></tr>\n",
       "\t<tr><td>3 </td><td> 8</td></tr>\n",
       "\t<tr><td>4 </td><td> 9</td></tr>\n",
       "\t<tr><td>5 </td><td>10</td></tr>\n",
       "</tbody>\n",
       "</table>\n"
      ],
      "text/latex": [
       "\\begin{tabular}{ll}\n",
       "\t 1  &  6\\\\\n",
       "\t 2  &  7\\\\\n",
       "\t 3  &  8\\\\\n",
       "\t 4  &  9\\\\\n",
       "\t 5  & 10\\\\\n",
       "\\end{tabular}\n"
      ],
      "text/markdown": [
       "\n",
       "| 1  |  6 | \n",
       "| 2  |  7 | \n",
       "| 3  |  8 | \n",
       "| 4  |  9 | \n",
       "| 5  | 10 | \n",
       "\n",
       "\n"
      ],
      "text/plain": [
       "     [,1] [,2]\n",
       "[1,] 1     6  \n",
       "[2,] 2     7  \n",
       "[3,] 3     8  \n",
       "[4,] 4     9  \n",
       "[5,] 5    10  "
      ]
     },
     "metadata": {},
     "output_type": "display_data"
    }
   ],
   "source": [
    "A"
   ]
  },
  {
   "cell_type": "code",
   "execution_count": 159,
   "metadata": {},
   "outputs": [
    {
     "data": {
      "text/html": [
       "<table>\n",
       "<tbody>\n",
       "\t<tr><td>11</td><td>13</td><td>15</td><td>17</td><td>19</td></tr>\n",
       "\t<tr><td>12</td><td>14</td><td>16</td><td>18</td><td>20</td></tr>\n",
       "</tbody>\n",
       "</table>\n"
      ],
      "text/latex": [
       "\\begin{tabular}{lllll}\n",
       "\t 11 & 13 & 15 & 17 & 19\\\\\n",
       "\t 12 & 14 & 16 & 18 & 20\\\\\n",
       "\\end{tabular}\n"
      ],
      "text/markdown": [
       "\n",
       "| 11 | 13 | 15 | 17 | 19 | \n",
       "| 12 | 14 | 16 | 18 | 20 | \n",
       "\n",
       "\n"
      ],
      "text/plain": [
       "     [,1] [,2] [,3] [,4] [,5]\n",
       "[1,] 11   13   15   17   19  \n",
       "[2,] 12   14   16   18   20  "
      ]
     },
     "metadata": {},
     "output_type": "display_data"
    }
   ],
   "source": [
    "B"
   ]
  },
  {
   "cell_type": "code",
   "execution_count": 160,
   "metadata": {},
   "outputs": [
    {
     "data": {
      "text/html": [
       "<table>\n",
       "<tbody>\n",
       "\t<tr><td>11</td><td>12</td></tr>\n",
       "\t<tr><td>13</td><td>14</td></tr>\n",
       "\t<tr><td>15</td><td>16</td></tr>\n",
       "\t<tr><td>17</td><td>18</td></tr>\n",
       "\t<tr><td>19</td><td>20</td></tr>\n",
       "</tbody>\n",
       "</table>\n"
      ],
      "text/latex": [
       "\\begin{tabular}{ll}\n",
       "\t 11 & 12\\\\\n",
       "\t 13 & 14\\\\\n",
       "\t 15 & 16\\\\\n",
       "\t 17 & 18\\\\\n",
       "\t 19 & 20\\\\\n",
       "\\end{tabular}\n"
      ],
      "text/markdown": [
       "\n",
       "| 11 | 12 | \n",
       "| 13 | 14 | \n",
       "| 15 | 16 | \n",
       "| 17 | 18 | \n",
       "| 19 | 20 | \n",
       "\n",
       "\n"
      ],
      "text/plain": [
       "     [,1] [,2]\n",
       "[1,] 11   12  \n",
       "[2,] 13   14  \n",
       "[3,] 15   16  \n",
       "[4,] 17   18  \n",
       "[5,] 19   20  "
      ]
     },
     "metadata": {},
     "output_type": "display_data"
    }
   ],
   "source": [
    "t(B)"
   ]
  },
  {
   "cell_type": "code",
   "execution_count": 161,
   "metadata": {},
   "outputs": [
    {
     "data": {
      "text/html": [
       "<table>\n",
       "<tbody>\n",
       "\t<tr><td>11 </td><td> 72</td></tr>\n",
       "\t<tr><td>26 </td><td> 98</td></tr>\n",
       "\t<tr><td>45 </td><td>128</td></tr>\n",
       "\t<tr><td>68 </td><td>162</td></tr>\n",
       "\t<tr><td>95 </td><td>200</td></tr>\n",
       "</tbody>\n",
       "</table>\n"
      ],
      "text/latex": [
       "\\begin{tabular}{ll}\n",
       "\t 11  &  72\\\\\n",
       "\t 26  &  98\\\\\n",
       "\t 45  & 128\\\\\n",
       "\t 68  & 162\\\\\n",
       "\t 95  & 200\\\\\n",
       "\\end{tabular}\n"
      ],
      "text/markdown": [
       "\n",
       "| 11  |  72 | \n",
       "| 26  |  98 | \n",
       "| 45  | 128 | \n",
       "| 68  | 162 | \n",
       "| 95  | 200 | \n",
       "\n",
       "\n"
      ],
      "text/plain": [
       "     [,1] [,2]\n",
       "[1,] 11    72 \n",
       "[2,] 26    98 \n",
       "[3,] 45   128 \n",
       "[4,] 68   162 \n",
       "[5,] 95   200 "
      ]
     },
     "metadata": {},
     "output_type": "display_data"
    }
   ],
   "source": [
    "A * t(B)"
   ]
  },
  {
   "cell_type": "code",
   "execution_count": 163,
   "metadata": {},
   "outputs": [
    {
     "data": {
      "text/html": [
       "<table>\n",
       "<tbody>\n",
       "\t<tr><td> 83</td><td> 97</td><td>111</td><td>125</td><td>139</td></tr>\n",
       "\t<tr><td>106</td><td>124</td><td>142</td><td>160</td><td>178</td></tr>\n",
       "\t<tr><td>129</td><td>151</td><td>173</td><td>195</td><td>217</td></tr>\n",
       "\t<tr><td>152</td><td>178</td><td>204</td><td>230</td><td>256</td></tr>\n",
       "\t<tr><td>175</td><td>205</td><td>235</td><td>265</td><td>295</td></tr>\n",
       "</tbody>\n",
       "</table>\n"
      ],
      "text/latex": [
       "\\begin{tabular}{lllll}\n",
       "\t  83 &  97 & 111 & 125 & 139\\\\\n",
       "\t 106 & 124 & 142 & 160 & 178\\\\\n",
       "\t 129 & 151 & 173 & 195 & 217\\\\\n",
       "\t 152 & 178 & 204 & 230 & 256\\\\\n",
       "\t 175 & 205 & 235 & 265 & 295\\\\\n",
       "\\end{tabular}\n"
      ],
      "text/markdown": [
       "\n",
       "|  83 |  97 | 111 | 125 | 139 | \n",
       "| 106 | 124 | 142 | 160 | 178 | \n",
       "| 129 | 151 | 173 | 195 | 217 | \n",
       "| 152 | 178 | 204 | 230 | 256 | \n",
       "| 175 | 205 | 235 | 265 | 295 | \n",
       "\n",
       "\n"
      ],
      "text/plain": [
       "     [,1] [,2] [,3] [,4] [,5]\n",
       "[1,]  83   97  111  125  139 \n",
       "[2,] 106  124  142  160  178 \n",
       "[3,] 129  151  173  195  217 \n",
       "[4,] 152  178  204  230  256 \n",
       "[5,] 175  205  235  265  295 "
      ]
     },
     "metadata": {},
     "output_type": "display_data"
    }
   ],
   "source": [
    "A %*% B"
   ]
  },
  {
   "cell_type": "code",
   "execution_count": 167,
   "metadata": {},
   "outputs": [
    {
     "data": {
      "text/html": [
       "<ol class=list-inline>\n",
       "\t<li>11</li>\n",
       "\t<li>22</li>\n",
       "\t<li>33</li>\n",
       "\t<li>44</li>\n",
       "\t<li>55</li>\n",
       "\t<li>66</li>\n",
       "\t<li>77</li>\n",
       "\t<li>88</li>\n",
       "\t<li>99</li>\n",
       "\t<li>110</li>\n",
       "\t<li>12</li>\n",
       "\t<li>24</li>\n",
       "\t<li>36</li>\n",
       "\t<li>48</li>\n",
       "\t<li>60</li>\n",
       "\t<li>72</li>\n",
       "\t<li>84</li>\n",
       "\t<li>96</li>\n",
       "\t<li>108</li>\n",
       "\t<li>120</li>\n",
       "\t<li>13</li>\n",
       "\t<li>26</li>\n",
       "\t<li>39</li>\n",
       "\t<li>52</li>\n",
       "\t<li>65</li>\n",
       "\t<li>78</li>\n",
       "\t<li>91</li>\n",
       "\t<li>104</li>\n",
       "\t<li>117</li>\n",
       "\t<li>130</li>\n",
       "\t<li>14</li>\n",
       "\t<li>28</li>\n",
       "\t<li>42</li>\n",
       "\t<li>56</li>\n",
       "\t<li>70</li>\n",
       "\t<li>84</li>\n",
       "\t<li>98</li>\n",
       "\t<li>112</li>\n",
       "\t<li>126</li>\n",
       "\t<li>140</li>\n",
       "\t<li>15</li>\n",
       "\t<li>30</li>\n",
       "\t<li>45</li>\n",
       "\t<li>60</li>\n",
       "\t<li>75</li>\n",
       "\t<li>90</li>\n",
       "\t<li>105</li>\n",
       "\t<li>120</li>\n",
       "\t<li>135</li>\n",
       "\t<li>150</li>\n",
       "\t<li>16</li>\n",
       "\t<li>32</li>\n",
       "\t<li>48</li>\n",
       "\t<li>64</li>\n",
       "\t<li>80</li>\n",
       "\t<li>96</li>\n",
       "\t<li>112</li>\n",
       "\t<li>128</li>\n",
       "\t<li>144</li>\n",
       "\t<li>160</li>\n",
       "\t<li>17</li>\n",
       "\t<li>34</li>\n",
       "\t<li>51</li>\n",
       "\t<li>68</li>\n",
       "\t<li>85</li>\n",
       "\t<li>102</li>\n",
       "\t<li>119</li>\n",
       "\t<li>136</li>\n",
       "\t<li>153</li>\n",
       "\t<li>170</li>\n",
       "\t<li>18</li>\n",
       "\t<li>36</li>\n",
       "\t<li>54</li>\n",
       "\t<li>72</li>\n",
       "\t<li>90</li>\n",
       "\t<li>108</li>\n",
       "\t<li>126</li>\n",
       "\t<li>144</li>\n",
       "\t<li>162</li>\n",
       "\t<li>180</li>\n",
       "\t<li>19</li>\n",
       "\t<li>38</li>\n",
       "\t<li>57</li>\n",
       "\t<li>76</li>\n",
       "\t<li>95</li>\n",
       "\t<li>114</li>\n",
       "\t<li>133</li>\n",
       "\t<li>152</li>\n",
       "\t<li>171</li>\n",
       "\t<li>190</li>\n",
       "\t<li>20</li>\n",
       "\t<li>40</li>\n",
       "\t<li>60</li>\n",
       "\t<li>80</li>\n",
       "\t<li>100</li>\n",
       "\t<li>120</li>\n",
       "\t<li>140</li>\n",
       "\t<li>160</li>\n",
       "\t<li>180</li>\n",
       "\t<li>200</li>\n",
       "</ol>\n"
      ],
      "text/latex": [
       "\\begin{enumerate*}\n",
       "\\item 11\n",
       "\\item 22\n",
       "\\item 33\n",
       "\\item 44\n",
       "\\item 55\n",
       "\\item 66\n",
       "\\item 77\n",
       "\\item 88\n",
       "\\item 99\n",
       "\\item 110\n",
       "\\item 12\n",
       "\\item 24\n",
       "\\item 36\n",
       "\\item 48\n",
       "\\item 60\n",
       "\\item 72\n",
       "\\item 84\n",
       "\\item 96\n",
       "\\item 108\n",
       "\\item 120\n",
       "\\item 13\n",
       "\\item 26\n",
       "\\item 39\n",
       "\\item 52\n",
       "\\item 65\n",
       "\\item 78\n",
       "\\item 91\n",
       "\\item 104\n",
       "\\item 117\n",
       "\\item 130\n",
       "\\item 14\n",
       "\\item 28\n",
       "\\item 42\n",
       "\\item 56\n",
       "\\item 70\n",
       "\\item 84\n",
       "\\item 98\n",
       "\\item 112\n",
       "\\item 126\n",
       "\\item 140\n",
       "\\item 15\n",
       "\\item 30\n",
       "\\item 45\n",
       "\\item 60\n",
       "\\item 75\n",
       "\\item 90\n",
       "\\item 105\n",
       "\\item 120\n",
       "\\item 135\n",
       "\\item 150\n",
       "\\item 16\n",
       "\\item 32\n",
       "\\item 48\n",
       "\\item 64\n",
       "\\item 80\n",
       "\\item 96\n",
       "\\item 112\n",
       "\\item 128\n",
       "\\item 144\n",
       "\\item 160\n",
       "\\item 17\n",
       "\\item 34\n",
       "\\item 51\n",
       "\\item 68\n",
       "\\item 85\n",
       "\\item 102\n",
       "\\item 119\n",
       "\\item 136\n",
       "\\item 153\n",
       "\\item 170\n",
       "\\item 18\n",
       "\\item 36\n",
       "\\item 54\n",
       "\\item 72\n",
       "\\item 90\n",
       "\\item 108\n",
       "\\item 126\n",
       "\\item 144\n",
       "\\item 162\n",
       "\\item 180\n",
       "\\item 19\n",
       "\\item 38\n",
       "\\item 57\n",
       "\\item 76\n",
       "\\item 95\n",
       "\\item 114\n",
       "\\item 133\n",
       "\\item 152\n",
       "\\item 171\n",
       "\\item 190\n",
       "\\item 20\n",
       "\\item 40\n",
       "\\item 60\n",
       "\\item 80\n",
       "\\item 100\n",
       "\\item 120\n",
       "\\item 140\n",
       "\\item 160\n",
       "\\item 180\n",
       "\\item 200\n",
       "\\end{enumerate*}\n"
      ],
      "text/markdown": [
       "1. 11\n",
       "2. 22\n",
       "3. 33\n",
       "4. 44\n",
       "5. 55\n",
       "6. 66\n",
       "7. 77\n",
       "8. 88\n",
       "9. 99\n",
       "10. 110\n",
       "11. 12\n",
       "12. 24\n",
       "13. 36\n",
       "14. 48\n",
       "15. 60\n",
       "16. 72\n",
       "17. 84\n",
       "18. 96\n",
       "19. 108\n",
       "20. 120\n",
       "21. 13\n",
       "22. 26\n",
       "23. 39\n",
       "24. 52\n",
       "25. 65\n",
       "26. 78\n",
       "27. 91\n",
       "28. 104\n",
       "29. 117\n",
       "30. 130\n",
       "31. 14\n",
       "32. 28\n",
       "33. 42\n",
       "34. 56\n",
       "35. 70\n",
       "36. 84\n",
       "37. 98\n",
       "38. 112\n",
       "39. 126\n",
       "40. 140\n",
       "41. 15\n",
       "42. 30\n",
       "43. 45\n",
       "44. 60\n",
       "45. 75\n",
       "46. 90\n",
       "47. 105\n",
       "48. 120\n",
       "49. 135\n",
       "50. 150\n",
       "51. 16\n",
       "52. 32\n",
       "53. 48\n",
       "54. 64\n",
       "55. 80\n",
       "56. 96\n",
       "57. 112\n",
       "58. 128\n",
       "59. 144\n",
       "60. 160\n",
       "61. 17\n",
       "62. 34\n",
       "63. 51\n",
       "64. 68\n",
       "65. 85\n",
       "66. 102\n",
       "67. 119\n",
       "68. 136\n",
       "69. 153\n",
       "70. 170\n",
       "71. 18\n",
       "72. 36\n",
       "73. 54\n",
       "74. 72\n",
       "75. 90\n",
       "76. 108\n",
       "77. 126\n",
       "78. 144\n",
       "79. 162\n",
       "80. 180\n",
       "81. 19\n",
       "82. 38\n",
       "83. 57\n",
       "84. 76\n",
       "85. 95\n",
       "86. 114\n",
       "87. 133\n",
       "88. 152\n",
       "89. 171\n",
       "90. 190\n",
       "91. 20\n",
       "92. 40\n",
       "93. 60\n",
       "94. 80\n",
       "95. 100\n",
       "96. 120\n",
       "97. 140\n",
       "98. 160\n",
       "99. 180\n",
       "100. 200\n",
       "\n",
       "\n"
      ],
      "text/plain": [
       ", , 1, 1\n",
       "\n",
       "     [,1] [,2]\n",
       "[1,]   11   66\n",
       "[2,]   22   77\n",
       "[3,]   33   88\n",
       "[4,]   44   99\n",
       "[5,]   55  110\n",
       "\n",
       ", , 2, 1\n",
       "\n",
       "     [,1] [,2]\n",
       "[1,]   12   72\n",
       "[2,]   24   84\n",
       "[3,]   36   96\n",
       "[4,]   48  108\n",
       "[5,]   60  120\n",
       "\n",
       ", , 1, 2\n",
       "\n",
       "     [,1] [,2]\n",
       "[1,]   13   78\n",
       "[2,]   26   91\n",
       "[3,]   39  104\n",
       "[4,]   52  117\n",
       "[5,]   65  130\n",
       "\n",
       ", , 2, 2\n",
       "\n",
       "     [,1] [,2]\n",
       "[1,]   14   84\n",
       "[2,]   28   98\n",
       "[3,]   42  112\n",
       "[4,]   56  126\n",
       "[5,]   70  140\n",
       "\n",
       ", , 1, 3\n",
       "\n",
       "     [,1] [,2]\n",
       "[1,]   15   90\n",
       "[2,]   30  105\n",
       "[3,]   45  120\n",
       "[4,]   60  135\n",
       "[5,]   75  150\n",
       "\n",
       ", , 2, 3\n",
       "\n",
       "     [,1] [,2]\n",
       "[1,]   16   96\n",
       "[2,]   32  112\n",
       "[3,]   48  128\n",
       "[4,]   64  144\n",
       "[5,]   80  160\n",
       "\n",
       ", , 1, 4\n",
       "\n",
       "     [,1] [,2]\n",
       "[1,]   17  102\n",
       "[2,]   34  119\n",
       "[3,]   51  136\n",
       "[4,]   68  153\n",
       "[5,]   85  170\n",
       "\n",
       ", , 2, 4\n",
       "\n",
       "     [,1] [,2]\n",
       "[1,]   18  108\n",
       "[2,]   36  126\n",
       "[3,]   54  144\n",
       "[4,]   72  162\n",
       "[5,]   90  180\n",
       "\n",
       ", , 1, 5\n",
       "\n",
       "     [,1] [,2]\n",
       "[1,]   19  114\n",
       "[2,]   38  133\n",
       "[3,]   57  152\n",
       "[4,]   76  171\n",
       "[5,]   95  190\n",
       "\n",
       ", , 2, 5\n",
       "\n",
       "     [,1] [,2]\n",
       "[1,]   20  120\n",
       "[2,]   40  140\n",
       "[3,]   60  160\n",
       "[4,]   80  180\n",
       "[5,]  100  200\n"
      ]
     },
     "metadata": {},
     "output_type": "display_data"
    }
   ],
   "source": [
    "A %o% B"
   ]
  },
  {
   "cell_type": "code",
   "execution_count": 169,
   "metadata": {},
   "outputs": [
    {
     "data": {
      "text/html": [
       "<table>\n",
       "<thead><tr><th scope=col>first.vec</th><th scope=col>second.vec</th></tr></thead>\n",
       "<tbody>\n",
       "\t<tr><td>1</td><td>4</td></tr>\n",
       "\t<tr><td>2</td><td>5</td></tr>\n",
       "\t<tr><td>3</td><td>6</td></tr>\n",
       "</tbody>\n",
       "</table>\n"
      ],
      "text/latex": [
       "\\begin{tabular}{ll}\n",
       " first.vec & second.vec\\\\\n",
       "\\hline\n",
       "\t 1 & 4\\\\\n",
       "\t 2 & 5\\\\\n",
       "\t 3 & 6\\\\\n",
       "\\end{tabular}\n"
      ],
      "text/markdown": [
       "\n",
       "first.vec | second.vec | \n",
       "|---|---|---|\n",
       "| 1 | 4 | \n",
       "| 2 | 5 | \n",
       "| 3 | 6 | \n",
       "\n",
       "\n"
      ],
      "text/plain": [
       "     first.vec second.vec\n",
       "[1,] 1         4         \n",
       "[2,] 2         5         \n",
       "[3,] 3         6         "
      ]
     },
     "metadata": {},
     "output_type": "display_data"
    }
   ],
   "source": [
    "first.vec = c(1,2,3)\n",
    "second.vec = c(4,5,6)\n",
    "cbind(first.vec, second.vec)"
   ]
  },
  {
   "cell_type": "code",
   "execution_count": 173,
   "metadata": {},
   "outputs": [],
   "source": [
    "some.matrix = rbind(first.vec, second.vec, 3)"
   ]
  },
  {
   "cell_type": "code",
   "execution_count": 174,
   "metadata": {},
   "outputs": [
    {
     "data": {
      "text/html": [
       "<table>\n",
       "<tbody>\n",
       "\t<tr><th scope=row>first.vec</th><td>1</td><td>2</td><td>3</td></tr>\n",
       "\t<tr><th scope=row>second.vec</th><td>4</td><td>5</td><td>6</td></tr>\n",
       "\t<tr><th scope=row></th><td>3</td><td>3</td><td>3</td></tr>\n",
       "</tbody>\n",
       "</table>\n"
      ],
      "text/latex": [
       "\\begin{tabular}{r|lll}\n",
       "\tfirst.vec & 1 & 2 & 3\\\\\n",
       "\tsecond.vec & 4 & 5 & 6\\\\\n",
       "\t & 3 & 3 & 3\\\\\n",
       "\\end{tabular}\n"
      ],
      "text/markdown": [
       "\n",
       "| first.vec | 1 | 2 | 3 | \n",
       "| second.vec | 4 | 5 | 6 | \n",
       "|  | 3 | 3 | 3 | \n",
       "\n",
       "\n"
      ],
      "text/plain": [
       "           [,1] [,2] [,3]\n",
       "first.vec  1    2    3   \n",
       "second.vec 4    5    6   \n",
       "           3    3    3   "
      ]
     },
     "metadata": {},
     "output_type": "display_data"
    }
   ],
   "source": [
    "some.matrix"
   ]
  },
  {
   "cell_type": "code",
   "execution_count": 172,
   "metadata": {},
   "outputs": [
    {
     "data": {
      "text/html": [
       "<ol class=list-inline>\n",
       "\t<li>'first.vec'</li>\n",
       "\t<li>'second.vec'</li>\n",
       "</ol>\n"
      ],
      "text/latex": [
       "\\begin{enumerate*}\n",
       "\\item 'first.vec'\n",
       "\\item 'second.vec'\n",
       "\\end{enumerate*}\n"
      ],
      "text/markdown": [
       "1. 'first.vec'\n",
       "2. 'second.vec'\n",
       "\n",
       "\n"
      ],
      "text/plain": [
       "[1] \"first.vec\"  \"second.vec\""
      ]
     },
     "metadata": {},
     "output_type": "display_data"
    }
   ],
   "source": [
    "rownames(some.matrix)"
   ]
  },
  {
   "cell_type": "markdown",
   "metadata": {},
   "source": [
    "## Other Matrix operations/methods\n",
    "\n",
    "* diag\n",
    "* crossprod\n",
    "* solve\n",
    "* inv\n",
    "* eigen\n",
    "* svd\n",
    "* cbind\n",
    "* rbind\n",
    "* rowMeans\n",
    "* rowSums\n",
    "* colMeans\n",
    "* colSums\n",
    "\n",
    "And a lot more stuff built in or included in the Matrix package e.g. support for sparse matrices."
   ]
  },
  {
   "cell_type": "markdown",
   "metadata": {},
   "source": [
    "## Data Frames - slicing and dicing"
   ]
  },
  {
   "cell_type": "code",
   "execution_count": 175,
   "metadata": {
    "collapsed": true
   },
   "outputs": [],
   "source": [
    "x <- 1:100"
   ]
  },
  {
   "cell_type": "code",
   "execution_count": 180,
   "metadata": {
    "collapsed": true
   },
   "outputs": [],
   "source": [
    "datafr <- data.frame(x=x, y=x^2)"
   ]
  },
  {
   "cell_type": "code",
   "execution_count": 185,
   "metadata": {},
   "outputs": [],
   "source": [
    "datafr$description = 'a description'"
   ]
  },
  {
   "cell_type": "code",
   "execution_count": 200,
   "metadata": {},
   "outputs": [
    {
     "data": {
      "text/html": [
       "<table>\n",
       "<thead><tr><th></th><th scope=col>x</th><th scope=col>y</th><th scope=col>description</th></tr></thead>\n",
       "<tbody>\n",
       "\t<tr><th scope=row>name1</th><td> 1           </td><td>  1          </td><td>a description</td></tr>\n",
       "\t<tr><th scope=row>name2</th><td> 2           </td><td>  4          </td><td>a description</td></tr>\n",
       "\t<tr><th scope=row>name3</th><td> 3           </td><td>  9          </td><td>a description</td></tr>\n",
       "\t<tr><th scope=row>name4</th><td> 4           </td><td> 16          </td><td>a description</td></tr>\n",
       "\t<tr><th scope=row>name5</th><td> 5           </td><td> 25          </td><td>a description</td></tr>\n",
       "\t<tr><th scope=row>name6</th><td> 6           </td><td> 36          </td><td>a description</td></tr>\n",
       "\t<tr><th scope=row>name7</th><td> 7           </td><td> 49          </td><td>a description</td></tr>\n",
       "\t<tr><th scope=row>name8</th><td> 8           </td><td> 64          </td><td>a description</td></tr>\n",
       "\t<tr><th scope=row>name9</th><td> 9           </td><td> 81          </td><td>a description</td></tr>\n",
       "\t<tr><th scope=row>name10</th><td>10           </td><td>100          </td><td>a description</td></tr>\n",
       "\t<tr><th scope=row>name11</th><td>11           </td><td>121          </td><td>a description</td></tr>\n",
       "\t<tr><th scope=row>name12</th><td>12           </td><td>144          </td><td>a description</td></tr>\n",
       "\t<tr><th scope=row>name13</th><td>13           </td><td>169          </td><td>a description</td></tr>\n",
       "\t<tr><th scope=row>name14</th><td>14           </td><td>196          </td><td>a description</td></tr>\n",
       "\t<tr><th scope=row>name15</th><td>15           </td><td>225          </td><td>a description</td></tr>\n",
       "\t<tr><th scope=row>name16</th><td>16           </td><td>256          </td><td>a description</td></tr>\n",
       "\t<tr><th scope=row>name17</th><td>17           </td><td>289          </td><td>a description</td></tr>\n",
       "\t<tr><th scope=row>name18</th><td>18           </td><td>324          </td><td>a description</td></tr>\n",
       "\t<tr><th scope=row>name19</th><td>19           </td><td>361          </td><td>a description</td></tr>\n",
       "\t<tr><th scope=row>name20</th><td>20           </td><td>400          </td><td>a description</td></tr>\n",
       "\t<tr><th scope=row>name21</th><td>21           </td><td>441          </td><td>a description</td></tr>\n",
       "\t<tr><th scope=row>name22</th><td>22           </td><td>484          </td><td>a description</td></tr>\n",
       "\t<tr><th scope=row>name23</th><td>23           </td><td>529          </td><td>a description</td></tr>\n",
       "\t<tr><th scope=row>name24</th><td>24           </td><td>576          </td><td>a description</td></tr>\n",
       "\t<tr><th scope=row>name25</th><td>25           </td><td>625          </td><td>a description</td></tr>\n",
       "\t<tr><th scope=row>name26</th><td>26           </td><td>676          </td><td>a description</td></tr>\n",
       "\t<tr><th scope=row>name27</th><td>27           </td><td>729          </td><td>a description</td></tr>\n",
       "\t<tr><th scope=row>name28</th><td>28           </td><td>784          </td><td>a description</td></tr>\n",
       "\t<tr><th scope=row>name29</th><td>29           </td><td>841          </td><td>a description</td></tr>\n",
       "\t<tr><th scope=row>name30</th><td>30           </td><td>900          </td><td>a description</td></tr>\n",
       "\t<tr><th scope=row>⋮</th><td>⋮</td><td>⋮</td><td>⋮</td></tr>\n",
       "\t<tr><th scope=row>name71</th><td> 71          </td><td> 5041        </td><td>a description</td></tr>\n",
       "\t<tr><th scope=row>name72</th><td> 72          </td><td> 5184        </td><td>a description</td></tr>\n",
       "\t<tr><th scope=row>name73</th><td> 73          </td><td> 5329        </td><td>a description</td></tr>\n",
       "\t<tr><th scope=row>name74</th><td> 74          </td><td> 5476        </td><td>a description</td></tr>\n",
       "\t<tr><th scope=row>name75</th><td> 75          </td><td> 5625        </td><td>a description</td></tr>\n",
       "\t<tr><th scope=row>name76</th><td> 76          </td><td> 5776        </td><td>a description</td></tr>\n",
       "\t<tr><th scope=row>name77</th><td> 77          </td><td> 5929        </td><td>a description</td></tr>\n",
       "\t<tr><th scope=row>name78</th><td> 78          </td><td> 6084        </td><td>a description</td></tr>\n",
       "\t<tr><th scope=row>name79</th><td> 79          </td><td> 6241        </td><td>a description</td></tr>\n",
       "\t<tr><th scope=row>name80</th><td> 80          </td><td> 6400        </td><td>a description</td></tr>\n",
       "\t<tr><th scope=row>name81</th><td> 81          </td><td> 6561        </td><td>a description</td></tr>\n",
       "\t<tr><th scope=row>name82</th><td> 82          </td><td> 6724        </td><td>a description</td></tr>\n",
       "\t<tr><th scope=row>name83</th><td> 83          </td><td> 6889        </td><td>a description</td></tr>\n",
       "\t<tr><th scope=row>name84</th><td> 84          </td><td> 7056        </td><td>a description</td></tr>\n",
       "\t<tr><th scope=row>name85</th><td> 85          </td><td> 7225        </td><td>a description</td></tr>\n",
       "\t<tr><th scope=row>name86</th><td> 86          </td><td> 7396        </td><td>a description</td></tr>\n",
       "\t<tr><th scope=row>name87</th><td> 87          </td><td> 7569        </td><td>a description</td></tr>\n",
       "\t<tr><th scope=row>name88</th><td> 88          </td><td> 7744        </td><td>a description</td></tr>\n",
       "\t<tr><th scope=row>name89</th><td> 89          </td><td> 7921        </td><td>a description</td></tr>\n",
       "\t<tr><th scope=row>name90</th><td> 90          </td><td> 8100        </td><td>a description</td></tr>\n",
       "\t<tr><th scope=row>name91</th><td> 91          </td><td> 8281        </td><td>a description</td></tr>\n",
       "\t<tr><th scope=row>name92</th><td> 92          </td><td> 8464        </td><td>a description</td></tr>\n",
       "\t<tr><th scope=row>name93</th><td> 93          </td><td> 8649        </td><td>a description</td></tr>\n",
       "\t<tr><th scope=row>name94</th><td> 94          </td><td> 8836        </td><td>a description</td></tr>\n",
       "\t<tr><th scope=row>name95</th><td> 95          </td><td> 9025        </td><td>a description</td></tr>\n",
       "\t<tr><th scope=row>name96</th><td> 96          </td><td> 9216        </td><td>a description</td></tr>\n",
       "\t<tr><th scope=row>name97</th><td> 97          </td><td> 9409        </td><td>a description</td></tr>\n",
       "\t<tr><th scope=row>name98</th><td> 98          </td><td> 9604        </td><td>a description</td></tr>\n",
       "\t<tr><th scope=row>name99</th><td> 99          </td><td> 9801        </td><td>a description</td></tr>\n",
       "\t<tr><th scope=row>name100</th><td>100          </td><td>10000        </td><td>a description</td></tr>\n",
       "</tbody>\n",
       "</table>\n"
      ],
      "text/latex": [
       "\\begin{tabular}{r|lll}\n",
       "  & x & y & description\\\\\n",
       "\\hline\n",
       "\tname1 &  1            &   1           & a description\\\\\n",
       "\tname2 &  2            &   4           & a description\\\\\n",
       "\tname3 &  3            &   9           & a description\\\\\n",
       "\tname4 &  4            &  16           & a description\\\\\n",
       "\tname5 &  5            &  25           & a description\\\\\n",
       "\tname6 &  6            &  36           & a description\\\\\n",
       "\tname7 &  7            &  49           & a description\\\\\n",
       "\tname8 &  8            &  64           & a description\\\\\n",
       "\tname9 &  9            &  81           & a description\\\\\n",
       "\tname10 & 10            & 100           & a description\\\\\n",
       "\tname11 & 11            & 121           & a description\\\\\n",
       "\tname12 & 12            & 144           & a description\\\\\n",
       "\tname13 & 13            & 169           & a description\\\\\n",
       "\tname14 & 14            & 196           & a description\\\\\n",
       "\tname15 & 15            & 225           & a description\\\\\n",
       "\tname16 & 16            & 256           & a description\\\\\n",
       "\tname17 & 17            & 289           & a description\\\\\n",
       "\tname18 & 18            & 324           & a description\\\\\n",
       "\tname19 & 19            & 361           & a description\\\\\n",
       "\tname20 & 20            & 400           & a description\\\\\n",
       "\tname21 & 21            & 441           & a description\\\\\n",
       "\tname22 & 22            & 484           & a description\\\\\n",
       "\tname23 & 23            & 529           & a description\\\\\n",
       "\tname24 & 24            & 576           & a description\\\\\n",
       "\tname25 & 25            & 625           & a description\\\\\n",
       "\tname26 & 26            & 676           & a description\\\\\n",
       "\tname27 & 27            & 729           & a description\\\\\n",
       "\tname28 & 28            & 784           & a description\\\\\n",
       "\tname29 & 29            & 841           & a description\\\\\n",
       "\tname30 & 30            & 900           & a description\\\\\n",
       "\t⋮ & ⋮ & ⋮ & ⋮\\\\\n",
       "\tname71 &  71           &  5041         & a description\\\\\n",
       "\tname72 &  72           &  5184         & a description\\\\\n",
       "\tname73 &  73           &  5329         & a description\\\\\n",
       "\tname74 &  74           &  5476         & a description\\\\\n",
       "\tname75 &  75           &  5625         & a description\\\\\n",
       "\tname76 &  76           &  5776         & a description\\\\\n",
       "\tname77 &  77           &  5929         & a description\\\\\n",
       "\tname78 &  78           &  6084         & a description\\\\\n",
       "\tname79 &  79           &  6241         & a description\\\\\n",
       "\tname80 &  80           &  6400         & a description\\\\\n",
       "\tname81 &  81           &  6561         & a description\\\\\n",
       "\tname82 &  82           &  6724         & a description\\\\\n",
       "\tname83 &  83           &  6889         & a description\\\\\n",
       "\tname84 &  84           &  7056         & a description\\\\\n",
       "\tname85 &  85           &  7225         & a description\\\\\n",
       "\tname86 &  86           &  7396         & a description\\\\\n",
       "\tname87 &  87           &  7569         & a description\\\\\n",
       "\tname88 &  88           &  7744         & a description\\\\\n",
       "\tname89 &  89           &  7921         & a description\\\\\n",
       "\tname90 &  90           &  8100         & a description\\\\\n",
       "\tname91 &  91           &  8281         & a description\\\\\n",
       "\tname92 &  92           &  8464         & a description\\\\\n",
       "\tname93 &  93           &  8649         & a description\\\\\n",
       "\tname94 &  94           &  8836         & a description\\\\\n",
       "\tname95 &  95           &  9025         & a description\\\\\n",
       "\tname96 &  96           &  9216         & a description\\\\\n",
       "\tname97 &  97           &  9409         & a description\\\\\n",
       "\tname98 &  98           &  9604         & a description\\\\\n",
       "\tname99 &  99           &  9801         & a description\\\\\n",
       "\tname100 & 100           & 10000         & a description\\\\\n",
       "\\end{tabular}\n"
      ],
      "text/markdown": [
       "\n",
       "| <!--/--> | x | y | description | \n",
       "|---|---|---|---|---|---|---|---|---|---|---|---|---|---|---|---|---|---|---|---|---|---|---|---|---|---|---|---|---|---|---|---|---|---|---|---|---|---|---|---|---|---|---|---|---|---|---|---|---|---|---|---|---|---|---|---|---|---|---|---|---|\n",
       "| name1 |  1            |   1           | a description | \n",
       "| name2 |  2            |   4           | a description | \n",
       "| name3 |  3            |   9           | a description | \n",
       "| name4 |  4            |  16           | a description | \n",
       "| name5 |  5            |  25           | a description | \n",
       "| name6 |  6            |  36           | a description | \n",
       "| name7 |  7            |  49           | a description | \n",
       "| name8 |  8            |  64           | a description | \n",
       "| name9 |  9            |  81           | a description | \n",
       "| name10 | 10            | 100           | a description | \n",
       "| name11 | 11            | 121           | a description | \n",
       "| name12 | 12            | 144           | a description | \n",
       "| name13 | 13            | 169           | a description | \n",
       "| name14 | 14            | 196           | a description | \n",
       "| name15 | 15            | 225           | a description | \n",
       "| name16 | 16            | 256           | a description | \n",
       "| name17 | 17            | 289           | a description | \n",
       "| name18 | 18            | 324           | a description | \n",
       "| name19 | 19            | 361           | a description | \n",
       "| name20 | 20            | 400           | a description | \n",
       "| name21 | 21            | 441           | a description | \n",
       "| name22 | 22            | 484           | a description | \n",
       "| name23 | 23            | 529           | a description | \n",
       "| name24 | 24            | 576           | a description | \n",
       "| name25 | 25            | 625           | a description | \n",
       "| name26 | 26            | 676           | a description | \n",
       "| name27 | 27            | 729           | a description | \n",
       "| name28 | 28            | 784           | a description | \n",
       "| name29 | 29            | 841           | a description | \n",
       "| name30 | 30            | 900           | a description | \n",
       "| ⋮ | ⋮ | ⋮ | ⋮ | \n",
       "| name71 |  71           |  5041         | a description | \n",
       "| name72 |  72           |  5184         | a description | \n",
       "| name73 |  73           |  5329         | a description | \n",
       "| name74 |  74           |  5476         | a description | \n",
       "| name75 |  75           |  5625         | a description | \n",
       "| name76 |  76           |  5776         | a description | \n",
       "| name77 |  77           |  5929         | a description | \n",
       "| name78 |  78           |  6084         | a description | \n",
       "| name79 |  79           |  6241         | a description | \n",
       "| name80 |  80           |  6400         | a description | \n",
       "| name81 |  81           |  6561         | a description | \n",
       "| name82 |  82           |  6724         | a description | \n",
       "| name83 |  83           |  6889         | a description | \n",
       "| name84 |  84           |  7056         | a description | \n",
       "| name85 |  85           |  7225         | a description | \n",
       "| name86 |  86           |  7396         | a description | \n",
       "| name87 |  87           |  7569         | a description | \n",
       "| name88 |  88           |  7744         | a description | \n",
       "| name89 |  89           |  7921         | a description | \n",
       "| name90 |  90           |  8100         | a description | \n",
       "| name91 |  91           |  8281         | a description | \n",
       "| name92 |  92           |  8464         | a description | \n",
       "| name93 |  93           |  8649         | a description | \n",
       "| name94 |  94           |  8836         | a description | \n",
       "| name95 |  95           |  9025         | a description | \n",
       "| name96 |  96           |  9216         | a description | \n",
       "| name97 |  97           |  9409         | a description | \n",
       "| name98 |  98           |  9604         | a description | \n",
       "| name99 |  99           |  9801         | a description | \n",
       "| name100 | 100           | 10000         | a description | \n",
       "\n",
       "\n"
      ],
      "text/plain": [
       "        x   y     description  \n",
       "name1    1    1   a description\n",
       "name2    2    4   a description\n",
       "name3    3    9   a description\n",
       "name4    4   16   a description\n",
       "name5    5   25   a description\n",
       "name6    6   36   a description\n",
       "name7    7   49   a description\n",
       "name8    8   64   a description\n",
       "name9    9   81   a description\n",
       "name10  10  100   a description\n",
       "name11  11  121   a description\n",
       "name12  12  144   a description\n",
       "name13  13  169   a description\n",
       "name14  14  196   a description\n",
       "name15  15  225   a description\n",
       "name16  16  256   a description\n",
       "name17  17  289   a description\n",
       "name18  18  324   a description\n",
       "name19  19  361   a description\n",
       "name20  20  400   a description\n",
       "name21  21  441   a description\n",
       "name22  22  484   a description\n",
       "name23  23  529   a description\n",
       "name24  24  576   a description\n",
       "name25  25  625   a description\n",
       "name26  26  676   a description\n",
       "name27  27  729   a description\n",
       "name28  28  784   a description\n",
       "name29  29  841   a description\n",
       "name30  30  900   a description\n",
       "⋮       ⋮   ⋮     ⋮            \n",
       "name71   71  5041 a description\n",
       "name72   72  5184 a description\n",
       "name73   73  5329 a description\n",
       "name74   74  5476 a description\n",
       "name75   75  5625 a description\n",
       "name76   76  5776 a description\n",
       "name77   77  5929 a description\n",
       "name78   78  6084 a description\n",
       "name79   79  6241 a description\n",
       "name80   80  6400 a description\n",
       "name81   81  6561 a description\n",
       "name82   82  6724 a description\n",
       "name83   83  6889 a description\n",
       "name84   84  7056 a description\n",
       "name85   85  7225 a description\n",
       "name86   86  7396 a description\n",
       "name87   87  7569 a description\n",
       "name88   88  7744 a description\n",
       "name89   89  7921 a description\n",
       "name90   90  8100 a description\n",
       "name91   91  8281 a description\n",
       "name92   92  8464 a description\n",
       "name93   93  8649 a description\n",
       "name94   94  8836 a description\n",
       "name95   95  9025 a description\n",
       "name96   96  9216 a description\n",
       "name97   97  9409 a description\n",
       "name98   98  9604 a description\n",
       "name99   99  9801 a description\n",
       "name100 100 10000 a description"
      ]
     },
     "metadata": {},
     "output_type": "display_data"
    }
   ],
   "source": [
    "datafr"
   ]
  },
  {
   "cell_type": "code",
   "execution_count": 191,
   "metadata": {},
   "outputs": [
    {
     "data": {
      "text/html": [
       "<table>\n",
       "<thead><tr><th scope=col>x</th><th scope=col>y</th><th scope=col>description</th></tr></thead>\n",
       "<tbody>\n",
       "\t<tr><td>1            </td><td> 1           </td><td>a description</td></tr>\n",
       "\t<tr><td>2            </td><td> 4           </td><td>a description</td></tr>\n",
       "\t<tr><td>3            </td><td> 9           </td><td>a description</td></tr>\n",
       "\t<tr><td>4            </td><td>16           </td><td>a description</td></tr>\n",
       "\t<tr><td>5            </td><td>25           </td><td>a description</td></tr>\n",
       "\t<tr><td>6            </td><td>36           </td><td>a description</td></tr>\n",
       "</tbody>\n",
       "</table>\n"
      ],
      "text/latex": [
       "\\begin{tabular}{r|lll}\n",
       " x & y & description\\\\\n",
       "\\hline\n",
       "\t 1             &  1            & a description\\\\\n",
       "\t 2             &  4            & a description\\\\\n",
       "\t 3             &  9            & a description\\\\\n",
       "\t 4             & 16            & a description\\\\\n",
       "\t 5             & 25            & a description\\\\\n",
       "\t 6             & 36            & a description\\\\\n",
       "\\end{tabular}\n"
      ],
      "text/markdown": [
       "\n",
       "x | y | description | \n",
       "|---|---|---|---|---|---|\n",
       "| 1             |  1            | a description | \n",
       "| 2             |  4            | a description | \n",
       "| 3             |  9            | a description | \n",
       "| 4             | 16            | a description | \n",
       "| 5             | 25            | a description | \n",
       "| 6             | 36            | a description | \n",
       "\n",
       "\n"
      ],
      "text/plain": [
       "  x y  description  \n",
       "1 1  1 a description\n",
       "2 2  4 a description\n",
       "3 3  9 a description\n",
       "4 4 16 a description\n",
       "5 5 25 a description\n",
       "6 6 36 a description"
      ]
     },
     "metadata": {},
     "output_type": "display_data"
    }
   ],
   "source": [
    "head(datafr)"
   ]
  },
  {
   "cell_type": "code",
   "execution_count": 192,
   "metadata": {},
   "outputs": [
    {
     "name": "stdout",
     "output_type": "stream",
     "text": [
      "'data.frame':\t100 obs. of  3 variables:\n",
      " $ x          : int  1 2 3 4 5 6 7 8 9 10 ...\n",
      " $ y          : num  1 4 9 16 25 36 49 64 81 100 ...\n",
      " $ description: chr  \"a description\" \"a description\" \"a description\" \"a description\" ...\n"
     ]
    }
   ],
   "source": [
    "str(datafr)"
   ]
  },
  {
   "cell_type": "code",
   "execution_count": 193,
   "metadata": {},
   "outputs": [
    {
     "data": {
      "text/html": [
       "<ol class=list-inline>\n",
       "\t<li>1</li>\n",
       "\t<li>2</li>\n",
       "\t<li>3</li>\n",
       "\t<li>4</li>\n",
       "\t<li>5</li>\n",
       "\t<li>6</li>\n",
       "\t<li>7</li>\n",
       "\t<li>8</li>\n",
       "\t<li>9</li>\n",
       "\t<li>10</li>\n",
       "\t<li>11</li>\n",
       "\t<li>12</li>\n",
       "\t<li>13</li>\n",
       "\t<li>14</li>\n",
       "\t<li>15</li>\n",
       "\t<li>16</li>\n",
       "\t<li>17</li>\n",
       "\t<li>18</li>\n",
       "\t<li>19</li>\n",
       "\t<li>20</li>\n",
       "\t<li>21</li>\n",
       "\t<li>22</li>\n",
       "\t<li>23</li>\n",
       "\t<li>24</li>\n",
       "\t<li>25</li>\n",
       "\t<li>26</li>\n",
       "\t<li>27</li>\n",
       "\t<li>28</li>\n",
       "\t<li>29</li>\n",
       "\t<li>30</li>\n",
       "\t<li>31</li>\n",
       "\t<li>32</li>\n",
       "\t<li>33</li>\n",
       "\t<li>34</li>\n",
       "\t<li>35</li>\n",
       "\t<li>36</li>\n",
       "\t<li>37</li>\n",
       "\t<li>38</li>\n",
       "\t<li>39</li>\n",
       "\t<li>40</li>\n",
       "\t<li>41</li>\n",
       "\t<li>42</li>\n",
       "\t<li>43</li>\n",
       "\t<li>44</li>\n",
       "\t<li>45</li>\n",
       "\t<li>46</li>\n",
       "\t<li>47</li>\n",
       "\t<li>48</li>\n",
       "\t<li>49</li>\n",
       "\t<li>50</li>\n",
       "\t<li>51</li>\n",
       "\t<li>52</li>\n",
       "\t<li>53</li>\n",
       "\t<li>54</li>\n",
       "\t<li>55</li>\n",
       "\t<li>56</li>\n",
       "\t<li>57</li>\n",
       "\t<li>58</li>\n",
       "\t<li>59</li>\n",
       "\t<li>60</li>\n",
       "\t<li>61</li>\n",
       "\t<li>62</li>\n",
       "\t<li>63</li>\n",
       "\t<li>64</li>\n",
       "\t<li>65</li>\n",
       "\t<li>66</li>\n",
       "\t<li>67</li>\n",
       "\t<li>68</li>\n",
       "\t<li>69</li>\n",
       "\t<li>70</li>\n",
       "\t<li>71</li>\n",
       "\t<li>72</li>\n",
       "\t<li>73</li>\n",
       "\t<li>74</li>\n",
       "\t<li>75</li>\n",
       "\t<li>76</li>\n",
       "\t<li>77</li>\n",
       "\t<li>78</li>\n",
       "\t<li>79</li>\n",
       "\t<li>80</li>\n",
       "\t<li>81</li>\n",
       "\t<li>82</li>\n",
       "\t<li>83</li>\n",
       "\t<li>84</li>\n",
       "\t<li>85</li>\n",
       "\t<li>86</li>\n",
       "\t<li>87</li>\n",
       "\t<li>88</li>\n",
       "\t<li>89</li>\n",
       "\t<li>90</li>\n",
       "\t<li>91</li>\n",
       "\t<li>92</li>\n",
       "\t<li>93</li>\n",
       "\t<li>94</li>\n",
       "\t<li>95</li>\n",
       "\t<li>96</li>\n",
       "\t<li>97</li>\n",
       "\t<li>98</li>\n",
       "\t<li>99</li>\n",
       "\t<li>100</li>\n",
       "</ol>\n"
      ],
      "text/latex": [
       "\\begin{enumerate*}\n",
       "\\item 1\n",
       "\\item 2\n",
       "\\item 3\n",
       "\\item 4\n",
       "\\item 5\n",
       "\\item 6\n",
       "\\item 7\n",
       "\\item 8\n",
       "\\item 9\n",
       "\\item 10\n",
       "\\item 11\n",
       "\\item 12\n",
       "\\item 13\n",
       "\\item 14\n",
       "\\item 15\n",
       "\\item 16\n",
       "\\item 17\n",
       "\\item 18\n",
       "\\item 19\n",
       "\\item 20\n",
       "\\item 21\n",
       "\\item 22\n",
       "\\item 23\n",
       "\\item 24\n",
       "\\item 25\n",
       "\\item 26\n",
       "\\item 27\n",
       "\\item 28\n",
       "\\item 29\n",
       "\\item 30\n",
       "\\item 31\n",
       "\\item 32\n",
       "\\item 33\n",
       "\\item 34\n",
       "\\item 35\n",
       "\\item 36\n",
       "\\item 37\n",
       "\\item 38\n",
       "\\item 39\n",
       "\\item 40\n",
       "\\item 41\n",
       "\\item 42\n",
       "\\item 43\n",
       "\\item 44\n",
       "\\item 45\n",
       "\\item 46\n",
       "\\item 47\n",
       "\\item 48\n",
       "\\item 49\n",
       "\\item 50\n",
       "\\item 51\n",
       "\\item 52\n",
       "\\item 53\n",
       "\\item 54\n",
       "\\item 55\n",
       "\\item 56\n",
       "\\item 57\n",
       "\\item 58\n",
       "\\item 59\n",
       "\\item 60\n",
       "\\item 61\n",
       "\\item 62\n",
       "\\item 63\n",
       "\\item 64\n",
       "\\item 65\n",
       "\\item 66\n",
       "\\item 67\n",
       "\\item 68\n",
       "\\item 69\n",
       "\\item 70\n",
       "\\item 71\n",
       "\\item 72\n",
       "\\item 73\n",
       "\\item 74\n",
       "\\item 75\n",
       "\\item 76\n",
       "\\item 77\n",
       "\\item 78\n",
       "\\item 79\n",
       "\\item 80\n",
       "\\item 81\n",
       "\\item 82\n",
       "\\item 83\n",
       "\\item 84\n",
       "\\item 85\n",
       "\\item 86\n",
       "\\item 87\n",
       "\\item 88\n",
       "\\item 89\n",
       "\\item 90\n",
       "\\item 91\n",
       "\\item 92\n",
       "\\item 93\n",
       "\\item 94\n",
       "\\item 95\n",
       "\\item 96\n",
       "\\item 97\n",
       "\\item 98\n",
       "\\item 99\n",
       "\\item 100\n",
       "\\end{enumerate*}\n"
      ],
      "text/markdown": [
       "1. 1\n",
       "2. 2\n",
       "3. 3\n",
       "4. 4\n",
       "5. 5\n",
       "6. 6\n",
       "7. 7\n",
       "8. 8\n",
       "9. 9\n",
       "10. 10\n",
       "11. 11\n",
       "12. 12\n",
       "13. 13\n",
       "14. 14\n",
       "15. 15\n",
       "16. 16\n",
       "17. 17\n",
       "18. 18\n",
       "19. 19\n",
       "20. 20\n",
       "21. 21\n",
       "22. 22\n",
       "23. 23\n",
       "24. 24\n",
       "25. 25\n",
       "26. 26\n",
       "27. 27\n",
       "28. 28\n",
       "29. 29\n",
       "30. 30\n",
       "31. 31\n",
       "32. 32\n",
       "33. 33\n",
       "34. 34\n",
       "35. 35\n",
       "36. 36\n",
       "37. 37\n",
       "38. 38\n",
       "39. 39\n",
       "40. 40\n",
       "41. 41\n",
       "42. 42\n",
       "43. 43\n",
       "44. 44\n",
       "45. 45\n",
       "46. 46\n",
       "47. 47\n",
       "48. 48\n",
       "49. 49\n",
       "50. 50\n",
       "51. 51\n",
       "52. 52\n",
       "53. 53\n",
       "54. 54\n",
       "55. 55\n",
       "56. 56\n",
       "57. 57\n",
       "58. 58\n",
       "59. 59\n",
       "60. 60\n",
       "61. 61\n",
       "62. 62\n",
       "63. 63\n",
       "64. 64\n",
       "65. 65\n",
       "66. 66\n",
       "67. 67\n",
       "68. 68\n",
       "69. 69\n",
       "70. 70\n",
       "71. 71\n",
       "72. 72\n",
       "73. 73\n",
       "74. 74\n",
       "75. 75\n",
       "76. 76\n",
       "77. 77\n",
       "78. 78\n",
       "79. 79\n",
       "80. 80\n",
       "81. 81\n",
       "82. 82\n",
       "83. 83\n",
       "84. 84\n",
       "85. 85\n",
       "86. 86\n",
       "87. 87\n",
       "88. 88\n",
       "89. 89\n",
       "90. 90\n",
       "91. 91\n",
       "92. 92\n",
       "93. 93\n",
       "94. 94\n",
       "95. 95\n",
       "96. 96\n",
       "97. 97\n",
       "98. 98\n",
       "99. 99\n",
       "100. 100\n",
       "\n",
       "\n"
      ],
      "text/plain": [
       "  [1]   1   2   3   4   5   6   7   8   9  10  11  12  13  14  15  16  17  18\n",
       " [19]  19  20  21  22  23  24  25  26  27  28  29  30  31  32  33  34  35  36\n",
       " [37]  37  38  39  40  41  42  43  44  45  46  47  48  49  50  51  52  53  54\n",
       " [55]  55  56  57  58  59  60  61  62  63  64  65  66  67  68  69  70  71  72\n",
       " [73]  73  74  75  76  77  78  79  80  81  82  83  84  85  86  87  88  89  90\n",
       " [91]  91  92  93  94  95  96  97  98  99 100"
      ]
     },
     "metadata": {},
     "output_type": "display_data"
    }
   ],
   "source": [
    "datafr$x"
   ]
  },
  {
   "cell_type": "code",
   "execution_count": 194,
   "metadata": {},
   "outputs": [
    {
     "data": {
      "text/html": [
       "<ol class=list-inline>\n",
       "\t<li>1</li>\n",
       "\t<li>4</li>\n",
       "\t<li>9</li>\n",
       "\t<li>16</li>\n",
       "\t<li>25</li>\n",
       "\t<li>36</li>\n",
       "\t<li>49</li>\n",
       "\t<li>64</li>\n",
       "\t<li>81</li>\n",
       "\t<li>100</li>\n",
       "\t<li>121</li>\n",
       "\t<li>144</li>\n",
       "\t<li>169</li>\n",
       "\t<li>196</li>\n",
       "\t<li>225</li>\n",
       "\t<li>256</li>\n",
       "\t<li>289</li>\n",
       "\t<li>324</li>\n",
       "\t<li>361</li>\n",
       "\t<li>400</li>\n",
       "\t<li>441</li>\n",
       "\t<li>484</li>\n",
       "\t<li>529</li>\n",
       "\t<li>576</li>\n",
       "\t<li>625</li>\n",
       "\t<li>676</li>\n",
       "\t<li>729</li>\n",
       "\t<li>784</li>\n",
       "\t<li>841</li>\n",
       "\t<li>900</li>\n",
       "\t<li>961</li>\n",
       "\t<li>1024</li>\n",
       "\t<li>1089</li>\n",
       "\t<li>1156</li>\n",
       "\t<li>1225</li>\n",
       "\t<li>1296</li>\n",
       "\t<li>1369</li>\n",
       "\t<li>1444</li>\n",
       "\t<li>1521</li>\n",
       "\t<li>1600</li>\n",
       "\t<li>1681</li>\n",
       "\t<li>1764</li>\n",
       "\t<li>1849</li>\n",
       "\t<li>1936</li>\n",
       "\t<li>2025</li>\n",
       "\t<li>2116</li>\n",
       "\t<li>2209</li>\n",
       "\t<li>2304</li>\n",
       "\t<li>2401</li>\n",
       "\t<li>2500</li>\n",
       "\t<li>2601</li>\n",
       "\t<li>2704</li>\n",
       "\t<li>2809</li>\n",
       "\t<li>2916</li>\n",
       "\t<li>3025</li>\n",
       "\t<li>3136</li>\n",
       "\t<li>3249</li>\n",
       "\t<li>3364</li>\n",
       "\t<li>3481</li>\n",
       "\t<li>3600</li>\n",
       "\t<li>3721</li>\n",
       "\t<li>3844</li>\n",
       "\t<li>3969</li>\n",
       "\t<li>4096</li>\n",
       "\t<li>4225</li>\n",
       "\t<li>4356</li>\n",
       "\t<li>4489</li>\n",
       "\t<li>4624</li>\n",
       "\t<li>4761</li>\n",
       "\t<li>4900</li>\n",
       "\t<li>5041</li>\n",
       "\t<li>5184</li>\n",
       "\t<li>5329</li>\n",
       "\t<li>5476</li>\n",
       "\t<li>5625</li>\n",
       "\t<li>5776</li>\n",
       "\t<li>5929</li>\n",
       "\t<li>6084</li>\n",
       "\t<li>6241</li>\n",
       "\t<li>6400</li>\n",
       "\t<li>6561</li>\n",
       "\t<li>6724</li>\n",
       "\t<li>6889</li>\n",
       "\t<li>7056</li>\n",
       "\t<li>7225</li>\n",
       "\t<li>7396</li>\n",
       "\t<li>7569</li>\n",
       "\t<li>7744</li>\n",
       "\t<li>7921</li>\n",
       "\t<li>8100</li>\n",
       "\t<li>8281</li>\n",
       "\t<li>8464</li>\n",
       "\t<li>8649</li>\n",
       "\t<li>8836</li>\n",
       "\t<li>9025</li>\n",
       "\t<li>9216</li>\n",
       "\t<li>9409</li>\n",
       "\t<li>9604</li>\n",
       "\t<li>9801</li>\n",
       "\t<li>10000</li>\n",
       "</ol>\n"
      ],
      "text/latex": [
       "\\begin{enumerate*}\n",
       "\\item 1\n",
       "\\item 4\n",
       "\\item 9\n",
       "\\item 16\n",
       "\\item 25\n",
       "\\item 36\n",
       "\\item 49\n",
       "\\item 64\n",
       "\\item 81\n",
       "\\item 100\n",
       "\\item 121\n",
       "\\item 144\n",
       "\\item 169\n",
       "\\item 196\n",
       "\\item 225\n",
       "\\item 256\n",
       "\\item 289\n",
       "\\item 324\n",
       "\\item 361\n",
       "\\item 400\n",
       "\\item 441\n",
       "\\item 484\n",
       "\\item 529\n",
       "\\item 576\n",
       "\\item 625\n",
       "\\item 676\n",
       "\\item 729\n",
       "\\item 784\n",
       "\\item 841\n",
       "\\item 900\n",
       "\\item 961\n",
       "\\item 1024\n",
       "\\item 1089\n",
       "\\item 1156\n",
       "\\item 1225\n",
       "\\item 1296\n",
       "\\item 1369\n",
       "\\item 1444\n",
       "\\item 1521\n",
       "\\item 1600\n",
       "\\item 1681\n",
       "\\item 1764\n",
       "\\item 1849\n",
       "\\item 1936\n",
       "\\item 2025\n",
       "\\item 2116\n",
       "\\item 2209\n",
       "\\item 2304\n",
       "\\item 2401\n",
       "\\item 2500\n",
       "\\item 2601\n",
       "\\item 2704\n",
       "\\item 2809\n",
       "\\item 2916\n",
       "\\item 3025\n",
       "\\item 3136\n",
       "\\item 3249\n",
       "\\item 3364\n",
       "\\item 3481\n",
       "\\item 3600\n",
       "\\item 3721\n",
       "\\item 3844\n",
       "\\item 3969\n",
       "\\item 4096\n",
       "\\item 4225\n",
       "\\item 4356\n",
       "\\item 4489\n",
       "\\item 4624\n",
       "\\item 4761\n",
       "\\item 4900\n",
       "\\item 5041\n",
       "\\item 5184\n",
       "\\item 5329\n",
       "\\item 5476\n",
       "\\item 5625\n",
       "\\item 5776\n",
       "\\item 5929\n",
       "\\item 6084\n",
       "\\item 6241\n",
       "\\item 6400\n",
       "\\item 6561\n",
       "\\item 6724\n",
       "\\item 6889\n",
       "\\item 7056\n",
       "\\item 7225\n",
       "\\item 7396\n",
       "\\item 7569\n",
       "\\item 7744\n",
       "\\item 7921\n",
       "\\item 8100\n",
       "\\item 8281\n",
       "\\item 8464\n",
       "\\item 8649\n",
       "\\item 8836\n",
       "\\item 9025\n",
       "\\item 9216\n",
       "\\item 9409\n",
       "\\item 9604\n",
       "\\item 9801\n",
       "\\item 10000\n",
       "\\end{enumerate*}\n"
      ],
      "text/markdown": [
       "1. 1\n",
       "2. 4\n",
       "3. 9\n",
       "4. 16\n",
       "5. 25\n",
       "6. 36\n",
       "7. 49\n",
       "8. 64\n",
       "9. 81\n",
       "10. 100\n",
       "11. 121\n",
       "12. 144\n",
       "13. 169\n",
       "14. 196\n",
       "15. 225\n",
       "16. 256\n",
       "17. 289\n",
       "18. 324\n",
       "19. 361\n",
       "20. 400\n",
       "21. 441\n",
       "22. 484\n",
       "23. 529\n",
       "24. 576\n",
       "25. 625\n",
       "26. 676\n",
       "27. 729\n",
       "28. 784\n",
       "29. 841\n",
       "30. 900\n",
       "31. 961\n",
       "32. 1024\n",
       "33. 1089\n",
       "34. 1156\n",
       "35. 1225\n",
       "36. 1296\n",
       "37. 1369\n",
       "38. 1444\n",
       "39. 1521\n",
       "40. 1600\n",
       "41. 1681\n",
       "42. 1764\n",
       "43. 1849\n",
       "44. 1936\n",
       "45. 2025\n",
       "46. 2116\n",
       "47. 2209\n",
       "48. 2304\n",
       "49. 2401\n",
       "50. 2500\n",
       "51. 2601\n",
       "52. 2704\n",
       "53. 2809\n",
       "54. 2916\n",
       "55. 3025\n",
       "56. 3136\n",
       "57. 3249\n",
       "58. 3364\n",
       "59. 3481\n",
       "60. 3600\n",
       "61. 3721\n",
       "62. 3844\n",
       "63. 3969\n",
       "64. 4096\n",
       "65. 4225\n",
       "66. 4356\n",
       "67. 4489\n",
       "68. 4624\n",
       "69. 4761\n",
       "70. 4900\n",
       "71. 5041\n",
       "72. 5184\n",
       "73. 5329\n",
       "74. 5476\n",
       "75. 5625\n",
       "76. 5776\n",
       "77. 5929\n",
       "78. 6084\n",
       "79. 6241\n",
       "80. 6400\n",
       "81. 6561\n",
       "82. 6724\n",
       "83. 6889\n",
       "84. 7056\n",
       "85. 7225\n",
       "86. 7396\n",
       "87. 7569\n",
       "88. 7744\n",
       "89. 7921\n",
       "90. 8100\n",
       "91. 8281\n",
       "92. 8464\n",
       "93. 8649\n",
       "94. 8836\n",
       "95. 9025\n",
       "96. 9216\n",
       "97. 9409\n",
       "98. 9604\n",
       "99. 9801\n",
       "100. 10000\n",
       "\n",
       "\n"
      ],
      "text/plain": [
       "  [1]     1     4     9    16    25    36    49    64    81   100   121   144\n",
       " [13]   169   196   225   256   289   324   361   400   441   484   529   576\n",
       " [25]   625   676   729   784   841   900   961  1024  1089  1156  1225  1296\n",
       " [37]  1369  1444  1521  1600  1681  1764  1849  1936  2025  2116  2209  2304\n",
       " [49]  2401  2500  2601  2704  2809  2916  3025  3136  3249  3364  3481  3600\n",
       " [61]  3721  3844  3969  4096  4225  4356  4489  4624  4761  4900  5041  5184\n",
       " [73]  5329  5476  5625  5776  5929  6084  6241  6400  6561  6724  6889  7056\n",
       " [85]  7225  7396  7569  7744  7921  8100  8281  8464  8649  8836  9025  9216\n",
       " [97]  9409  9604  9801 10000"
      ]
     },
     "metadata": {},
     "output_type": "display_data"
    }
   ],
   "source": [
    "datafr$y"
   ]
  },
  {
   "cell_type": "code",
   "execution_count": 195,
   "metadata": {},
   "outputs": [
    {
     "data": {
      "text/html": [
       "<ol class=list-inline>\n",
       "\t<li>'x'</li>\n",
       "\t<li>'y'</li>\n",
       "\t<li>'description'</li>\n",
       "</ol>\n"
      ],
      "text/latex": [
       "\\begin{enumerate*}\n",
       "\\item 'x'\n",
       "\\item 'y'\n",
       "\\item 'description'\n",
       "\\end{enumerate*}\n"
      ],
      "text/markdown": [
       "1. 'x'\n",
       "2. 'y'\n",
       "3. 'description'\n",
       "\n",
       "\n"
      ],
      "text/plain": [
       "[1] \"x\"           \"y\"           \"description\""
      ]
     },
     "metadata": {},
     "output_type": "display_data"
    }
   ],
   "source": [
    "colnames(datafr)"
   ]
  },
  {
   "cell_type": "code",
   "execution_count": 199,
   "metadata": {},
   "outputs": [
    {
     "data": {
      "text/html": [
       "<ol class=list-inline>\n",
       "\t<li>'name1'</li>\n",
       "\t<li>'name2'</li>\n",
       "\t<li>'name3'</li>\n",
       "\t<li>'name4'</li>\n",
       "\t<li>'name5'</li>\n",
       "\t<li>'name6'</li>\n",
       "\t<li>'name7'</li>\n",
       "\t<li>'name8'</li>\n",
       "\t<li>'name9'</li>\n",
       "\t<li>'name10'</li>\n",
       "\t<li>'name11'</li>\n",
       "\t<li>'name12'</li>\n",
       "\t<li>'name13'</li>\n",
       "\t<li>'name14'</li>\n",
       "\t<li>'name15'</li>\n",
       "\t<li>'name16'</li>\n",
       "\t<li>'name17'</li>\n",
       "\t<li>'name18'</li>\n",
       "\t<li>'name19'</li>\n",
       "\t<li>'name20'</li>\n",
       "\t<li>'name21'</li>\n",
       "\t<li>'name22'</li>\n",
       "\t<li>'name23'</li>\n",
       "\t<li>'name24'</li>\n",
       "\t<li>'name25'</li>\n",
       "\t<li>'name26'</li>\n",
       "\t<li>'name27'</li>\n",
       "\t<li>'name28'</li>\n",
       "\t<li>'name29'</li>\n",
       "\t<li>'name30'</li>\n",
       "\t<li>'name31'</li>\n",
       "\t<li>'name32'</li>\n",
       "\t<li>'name33'</li>\n",
       "\t<li>'name34'</li>\n",
       "\t<li>'name35'</li>\n",
       "\t<li>'name36'</li>\n",
       "\t<li>'name37'</li>\n",
       "\t<li>'name38'</li>\n",
       "\t<li>'name39'</li>\n",
       "\t<li>'name40'</li>\n",
       "\t<li>'name41'</li>\n",
       "\t<li>'name42'</li>\n",
       "\t<li>'name43'</li>\n",
       "\t<li>'name44'</li>\n",
       "\t<li>'name45'</li>\n",
       "\t<li>'name46'</li>\n",
       "\t<li>'name47'</li>\n",
       "\t<li>'name48'</li>\n",
       "\t<li>'name49'</li>\n",
       "\t<li>'name50'</li>\n",
       "\t<li>'name51'</li>\n",
       "\t<li>'name52'</li>\n",
       "\t<li>'name53'</li>\n",
       "\t<li>'name54'</li>\n",
       "\t<li>'name55'</li>\n",
       "\t<li>'name56'</li>\n",
       "\t<li>'name57'</li>\n",
       "\t<li>'name58'</li>\n",
       "\t<li>'name59'</li>\n",
       "\t<li>'name60'</li>\n",
       "\t<li>'name61'</li>\n",
       "\t<li>'name62'</li>\n",
       "\t<li>'name63'</li>\n",
       "\t<li>'name64'</li>\n",
       "\t<li>'name65'</li>\n",
       "\t<li>'name66'</li>\n",
       "\t<li>'name67'</li>\n",
       "\t<li>'name68'</li>\n",
       "\t<li>'name69'</li>\n",
       "\t<li>'name70'</li>\n",
       "\t<li>'name71'</li>\n",
       "\t<li>'name72'</li>\n",
       "\t<li>'name73'</li>\n",
       "\t<li>'name74'</li>\n",
       "\t<li>'name75'</li>\n",
       "\t<li>'name76'</li>\n",
       "\t<li>'name77'</li>\n",
       "\t<li>'name78'</li>\n",
       "\t<li>'name79'</li>\n",
       "\t<li>'name80'</li>\n",
       "\t<li>'name81'</li>\n",
       "\t<li>'name82'</li>\n",
       "\t<li>'name83'</li>\n",
       "\t<li>'name84'</li>\n",
       "\t<li>'name85'</li>\n",
       "\t<li>'name86'</li>\n",
       "\t<li>'name87'</li>\n",
       "\t<li>'name88'</li>\n",
       "\t<li>'name89'</li>\n",
       "\t<li>'name90'</li>\n",
       "\t<li>'name91'</li>\n",
       "\t<li>'name92'</li>\n",
       "\t<li>'name93'</li>\n",
       "\t<li>'name94'</li>\n",
       "\t<li>'name95'</li>\n",
       "\t<li>'name96'</li>\n",
       "\t<li>'name97'</li>\n",
       "\t<li>'name98'</li>\n",
       "\t<li>'name99'</li>\n",
       "\t<li>'name100'</li>\n",
       "</ol>\n"
      ],
      "text/latex": [
       "\\begin{enumerate*}\n",
       "\\item 'name1'\n",
       "\\item 'name2'\n",
       "\\item 'name3'\n",
       "\\item 'name4'\n",
       "\\item 'name5'\n",
       "\\item 'name6'\n",
       "\\item 'name7'\n",
       "\\item 'name8'\n",
       "\\item 'name9'\n",
       "\\item 'name10'\n",
       "\\item 'name11'\n",
       "\\item 'name12'\n",
       "\\item 'name13'\n",
       "\\item 'name14'\n",
       "\\item 'name15'\n",
       "\\item 'name16'\n",
       "\\item 'name17'\n",
       "\\item 'name18'\n",
       "\\item 'name19'\n",
       "\\item 'name20'\n",
       "\\item 'name21'\n",
       "\\item 'name22'\n",
       "\\item 'name23'\n",
       "\\item 'name24'\n",
       "\\item 'name25'\n",
       "\\item 'name26'\n",
       "\\item 'name27'\n",
       "\\item 'name28'\n",
       "\\item 'name29'\n",
       "\\item 'name30'\n",
       "\\item 'name31'\n",
       "\\item 'name32'\n",
       "\\item 'name33'\n",
       "\\item 'name34'\n",
       "\\item 'name35'\n",
       "\\item 'name36'\n",
       "\\item 'name37'\n",
       "\\item 'name38'\n",
       "\\item 'name39'\n",
       "\\item 'name40'\n",
       "\\item 'name41'\n",
       "\\item 'name42'\n",
       "\\item 'name43'\n",
       "\\item 'name44'\n",
       "\\item 'name45'\n",
       "\\item 'name46'\n",
       "\\item 'name47'\n",
       "\\item 'name48'\n",
       "\\item 'name49'\n",
       "\\item 'name50'\n",
       "\\item 'name51'\n",
       "\\item 'name52'\n",
       "\\item 'name53'\n",
       "\\item 'name54'\n",
       "\\item 'name55'\n",
       "\\item 'name56'\n",
       "\\item 'name57'\n",
       "\\item 'name58'\n",
       "\\item 'name59'\n",
       "\\item 'name60'\n",
       "\\item 'name61'\n",
       "\\item 'name62'\n",
       "\\item 'name63'\n",
       "\\item 'name64'\n",
       "\\item 'name65'\n",
       "\\item 'name66'\n",
       "\\item 'name67'\n",
       "\\item 'name68'\n",
       "\\item 'name69'\n",
       "\\item 'name70'\n",
       "\\item 'name71'\n",
       "\\item 'name72'\n",
       "\\item 'name73'\n",
       "\\item 'name74'\n",
       "\\item 'name75'\n",
       "\\item 'name76'\n",
       "\\item 'name77'\n",
       "\\item 'name78'\n",
       "\\item 'name79'\n",
       "\\item 'name80'\n",
       "\\item 'name81'\n",
       "\\item 'name82'\n",
       "\\item 'name83'\n",
       "\\item 'name84'\n",
       "\\item 'name85'\n",
       "\\item 'name86'\n",
       "\\item 'name87'\n",
       "\\item 'name88'\n",
       "\\item 'name89'\n",
       "\\item 'name90'\n",
       "\\item 'name91'\n",
       "\\item 'name92'\n",
       "\\item 'name93'\n",
       "\\item 'name94'\n",
       "\\item 'name95'\n",
       "\\item 'name96'\n",
       "\\item 'name97'\n",
       "\\item 'name98'\n",
       "\\item 'name99'\n",
       "\\item 'name100'\n",
       "\\end{enumerate*}\n"
      ],
      "text/markdown": [
       "1. 'name1'\n",
       "2. 'name2'\n",
       "3. 'name3'\n",
       "4. 'name4'\n",
       "5. 'name5'\n",
       "6. 'name6'\n",
       "7. 'name7'\n",
       "8. 'name8'\n",
       "9. 'name9'\n",
       "10. 'name10'\n",
       "11. 'name11'\n",
       "12. 'name12'\n",
       "13. 'name13'\n",
       "14. 'name14'\n",
       "15. 'name15'\n",
       "16. 'name16'\n",
       "17. 'name17'\n",
       "18. 'name18'\n",
       "19. 'name19'\n",
       "20. 'name20'\n",
       "21. 'name21'\n",
       "22. 'name22'\n",
       "23. 'name23'\n",
       "24. 'name24'\n",
       "25. 'name25'\n",
       "26. 'name26'\n",
       "27. 'name27'\n",
       "28. 'name28'\n",
       "29. 'name29'\n",
       "30. 'name30'\n",
       "31. 'name31'\n",
       "32. 'name32'\n",
       "33. 'name33'\n",
       "34. 'name34'\n",
       "35. 'name35'\n",
       "36. 'name36'\n",
       "37. 'name37'\n",
       "38. 'name38'\n",
       "39. 'name39'\n",
       "40. 'name40'\n",
       "41. 'name41'\n",
       "42. 'name42'\n",
       "43. 'name43'\n",
       "44. 'name44'\n",
       "45. 'name45'\n",
       "46. 'name46'\n",
       "47. 'name47'\n",
       "48. 'name48'\n",
       "49. 'name49'\n",
       "50. 'name50'\n",
       "51. 'name51'\n",
       "52. 'name52'\n",
       "53. 'name53'\n",
       "54. 'name54'\n",
       "55. 'name55'\n",
       "56. 'name56'\n",
       "57. 'name57'\n",
       "58. 'name58'\n",
       "59. 'name59'\n",
       "60. 'name60'\n",
       "61. 'name61'\n",
       "62. 'name62'\n",
       "63. 'name63'\n",
       "64. 'name64'\n",
       "65. 'name65'\n",
       "66. 'name66'\n",
       "67. 'name67'\n",
       "68. 'name68'\n",
       "69. 'name69'\n",
       "70. 'name70'\n",
       "71. 'name71'\n",
       "72. 'name72'\n",
       "73. 'name73'\n",
       "74. 'name74'\n",
       "75. 'name75'\n",
       "76. 'name76'\n",
       "77. 'name77'\n",
       "78. 'name78'\n",
       "79. 'name79'\n",
       "80. 'name80'\n",
       "81. 'name81'\n",
       "82. 'name82'\n",
       "83. 'name83'\n",
       "84. 'name84'\n",
       "85. 'name85'\n",
       "86. 'name86'\n",
       "87. 'name87'\n",
       "88. 'name88'\n",
       "89. 'name89'\n",
       "90. 'name90'\n",
       "91. 'name91'\n",
       "92. 'name92'\n",
       "93. 'name93'\n",
       "94. 'name94'\n",
       "95. 'name95'\n",
       "96. 'name96'\n",
       "97. 'name97'\n",
       "98. 'name98'\n",
       "99. 'name99'\n",
       "100. 'name100'\n",
       "\n",
       "\n"
      ],
      "text/plain": [
       "  [1] \"name1\"   \"name2\"   \"name3\"   \"name4\"   \"name5\"   \"name6\"   \"name7\"  \n",
       "  [8] \"name8\"   \"name9\"   \"name10\"  \"name11\"  \"name12\"  \"name13\"  \"name14\" \n",
       " [15] \"name15\"  \"name16\"  \"name17\"  \"name18\"  \"name19\"  \"name20\"  \"name21\" \n",
       " [22] \"name22\"  \"name23\"  \"name24\"  \"name25\"  \"name26\"  \"name27\"  \"name28\" \n",
       " [29] \"name29\"  \"name30\"  \"name31\"  \"name32\"  \"name33\"  \"name34\"  \"name35\" \n",
       " [36] \"name36\"  \"name37\"  \"name38\"  \"name39\"  \"name40\"  \"name41\"  \"name42\" \n",
       " [43] \"name43\"  \"name44\"  \"name45\"  \"name46\"  \"name47\"  \"name48\"  \"name49\" \n",
       " [50] \"name50\"  \"name51\"  \"name52\"  \"name53\"  \"name54\"  \"name55\"  \"name56\" \n",
       " [57] \"name57\"  \"name58\"  \"name59\"  \"name60\"  \"name61\"  \"name62\"  \"name63\" \n",
       " [64] \"name64\"  \"name65\"  \"name66\"  \"name67\"  \"name68\"  \"name69\"  \"name70\" \n",
       " [71] \"name71\"  \"name72\"  \"name73\"  \"name74\"  \"name75\"  \"name76\"  \"name77\" \n",
       " [78] \"name78\"  \"name79\"  \"name80\"  \"name81\"  \"name82\"  \"name83\"  \"name84\" \n",
       " [85] \"name85\"  \"name86\"  \"name87\"  \"name88\"  \"name89\"  \"name90\"  \"name91\" \n",
       " [92] \"name92\"  \"name93\"  \"name94\"  \"name95\"  \"name96\"  \"name97\"  \"name98\" \n",
       " [99] \"name99\"  \"name100\""
      ]
     },
     "metadata": {},
     "output_type": "display_data"
    }
   ],
   "source": [
    "rownames(datafr)"
   ]
  },
  {
   "cell_type": "code",
   "execution_count": 202,
   "metadata": {},
   "outputs": [
    {
     "data": {
      "text/html": [
       "3"
      ],
      "text/latex": [
       "3"
      ],
      "text/markdown": [
       "3"
      ],
      "text/plain": [
       "[1] 3"
      ]
     },
     "metadata": {},
     "output_type": "display_data"
    }
   ],
   "source": [
    "datafr['name3', 'x']"
   ]
  },
  {
   "cell_type": "code",
   "execution_count": 203,
   "metadata": {},
   "outputs": [
    {
     "data": {
      "text/html": [
       "<table>\n",
       "<thead><tr><th></th><th scope=col>x</th><th scope=col>y</th></tr></thead>\n",
       "<tbody>\n",
       "\t<tr><th scope=row>name3</th><td>3</td><td>9</td></tr>\n",
       "</tbody>\n",
       "</table>\n"
      ],
      "text/latex": [
       "\\begin{tabular}{r|ll}\n",
       "  & x & y\\\\\n",
       "\\hline\n",
       "\tname3 & 3 & 9\\\\\n",
       "\\end{tabular}\n"
      ],
      "text/markdown": [
       "\n",
       "| <!--/--> | x | y | \n",
       "|---|\n",
       "| name3 | 3 | 9 | \n",
       "\n",
       "\n"
      ],
      "text/plain": [
       "      x y\n",
       "name3 3 9"
      ]
     },
     "metadata": {},
     "output_type": "display_data"
    }
   ],
   "source": [
    "datafr['name3', c('x', 'y')]"
   ]
  },
  {
   "cell_type": "code",
   "execution_count": 204,
   "metadata": {},
   "outputs": [
    {
     "data": {
      "text/html": [
       "<table>\n",
       "<thead><tr><th></th><th scope=col>x</th><th scope=col>y</th></tr></thead>\n",
       "<tbody>\n",
       "\t<tr><th scope=row>name1</th><td>1 </td><td> 1</td></tr>\n",
       "\t<tr><th scope=row>name2</th><td>2 </td><td> 4</td></tr>\n",
       "\t<tr><th scope=row>name3</th><td>3 </td><td> 9</td></tr>\n",
       "\t<tr><th scope=row>name4</th><td>4 </td><td>16</td></tr>\n",
       "\t<tr><th scope=row>name5</th><td>5 </td><td>25</td></tr>\n",
       "</tbody>\n",
       "</table>\n"
      ],
      "text/latex": [
       "\\begin{tabular}{r|ll}\n",
       "  & x & y\\\\\n",
       "\\hline\n",
       "\tname1 & 1  &  1\\\\\n",
       "\tname2 & 2  &  4\\\\\n",
       "\tname3 & 3  &  9\\\\\n",
       "\tname4 & 4  & 16\\\\\n",
       "\tname5 & 5  & 25\\\\\n",
       "\\end{tabular}\n"
      ],
      "text/markdown": [
       "\n",
       "| <!--/--> | x | y | \n",
       "|---|---|---|---|---|\n",
       "| name1 | 1  |  1 | \n",
       "| name2 | 2  |  4 | \n",
       "| name3 | 3  |  9 | \n",
       "| name4 | 4  | 16 | \n",
       "| name5 | 5  | 25 | \n",
       "\n",
       "\n"
      ],
      "text/plain": [
       "      x y \n",
       "name1 1  1\n",
       "name2 2  4\n",
       "name3 3  9\n",
       "name4 4 16\n",
       "name5 5 25"
      ]
     },
     "metadata": {},
     "output_type": "display_data"
    }
   ],
   "source": [
    "datafr[1:5, c('x', 'y')]"
   ]
  },
  {
   "cell_type": "code",
   "execution_count": null,
   "metadata": {},
   "outputs": [],
   "source": [
    "datafr[, 'x']"
   ]
  },
  {
   "cell_type": "code",
   "execution_count": 207,
   "metadata": {},
   "outputs": [
    {
     "data": {
      "text/html": [
       "<table>\n",
       "<thead><tr><th></th><th scope=col>x</th><th scope=col>y</th><th scope=col>description</th></tr></thead>\n",
       "<tbody>\n",
       "\t<tr><th scope=row>name1</th><td>1            </td><td> 1           </td><td>a description</td></tr>\n",
       "\t<tr><th scope=row>name5</th><td>5            </td><td>25           </td><td>a description</td></tr>\n",
       "</tbody>\n",
       "</table>\n"
      ],
      "text/latex": [
       "\\begin{tabular}{r|lll}\n",
       "  & x & y & description\\\\\n",
       "\\hline\n",
       "\tname1 & 1             &  1            & a description\\\\\n",
       "\tname5 & 5             & 25            & a description\\\\\n",
       "\\end{tabular}\n"
      ],
      "text/markdown": [
       "\n",
       "| <!--/--> | x | y | description | \n",
       "|---|---|\n",
       "| name1 | 1             |  1            | a description | \n",
       "| name5 | 5             | 25            | a description | \n",
       "\n",
       "\n"
      ],
      "text/plain": [
       "      x y  description  \n",
       "name1 1  1 a description\n",
       "name5 5 25 a description"
      ]
     },
     "metadata": {},
     "output_type": "display_data"
    }
   ],
   "source": [
    "datafr[c(TRUE, FALSE, FALSE, FALSE, TRUE, rep(FALSE, 95)), ]"
   ]
  },
  {
   "cell_type": "code",
   "execution_count": 210,
   "metadata": {},
   "outputs": [
    {
     "data": {
      "text/html": [
       "'a description'"
      ],
      "text/latex": [
       "'a description'"
      ],
      "text/markdown": [
       "'a description'"
      ],
      "text/plain": [
       "[1] \"a description\""
      ]
     },
     "metadata": {},
     "output_type": "display_data"
    }
   ],
   "source": [
    "datafr[[1, 3]]  # select individual values"
   ]
  },
  {
   "cell_type": "code",
   "execution_count": 211,
   "metadata": {},
   "outputs": [
    {
     "data": {
      "image/png": "[encoded data removed]",
      "text/plain": [
       "plot without title"
      ]
     },
     "metadata": {},
     "output_type": "display_data"
    }
   ],
   "source": [
    "plot(datafr$x, datafr$y, type='l')"
   ]
  },
  {
   "cell_type": "markdown",
   "metadata": {},
   "source": [
    "# More datatypes\n",
    "\n",
    "* lists\n",
    "* factors\n",
    "* booleans\n",
    "* all kinds of numeric types\n",
    "* objects\n",
    "* ... a lot more through external packages e.g."
   ]
  },
  {
   "cell_type": "markdown",
   "metadata": {},
   "source": [
    "# Data - Random and Otherwise"
   ]
  },
  {
   "cell_type": "markdown",
   "metadata": {},
   "source": [
    "## Distributions"
   ]
  },
  {
   "cell_type": "markdown",
   "metadata": {},
   "source": [
    "* d\treturns the height of the probability density function\n",
    "* p\treturns the cumulative density function\n",
    "* q\treturns the inverse cumulative density function (quantiles)\n",
    "* r\treturns randomly generated numbers"
   ]
  },
  {
   "cell_type": "markdown",
   "metadata": {},
   "source": [
    "### Normal"
   ]
  },
  {
   "cell_type": "code",
   "execution_count": 212,
   "metadata": {},
   "outputs": [
    {
     "data": {
      "text/html": [
       "<ol class=list-inline>\n",
       "\t<li>0.830543753625379</li>\n",
       "\t<li>0.0486644354681918</li>\n",
       "\t<li>-1.6701034079658</li>\n",
       "\t<li>-0.13294546709452</li>\n",
       "\t<li>1.68694086588553</li>\n",
       "</ol>\n"
      ],
      "text/latex": [
       "\\begin{enumerate*}\n",
       "\\item 0.830543753625379\n",
       "\\item 0.0486644354681918\n",
       "\\item -1.6701034079658\n",
       "\\item -0.13294546709452\n",
       "\\item 1.68694086588553\n",
       "\\end{enumerate*}\n"
      ],
      "text/markdown": [
       "1. 0.830543753625379\n",
       "2. 0.0486644354681918\n",
       "3. -1.6701034079658\n",
       "4. -0.13294546709452\n",
       "5. 1.68694086588553\n",
       "\n",
       "\n"
      ],
      "text/plain": [
       "[1]  0.83054375  0.04866444 -1.67010341 -0.13294547  1.68694087"
      ]
     },
     "metadata": {},
     "output_type": "display_data"
    }
   ],
   "source": [
    "rnorm(5)"
   ]
  },
  {
   "cell_type": "code",
   "execution_count": 213,
   "metadata": {
    "collapsed": true
   },
   "outputs": [],
   "source": [
    "?rnorm"
   ]
  },
  {
   "cell_type": "code",
   "execution_count": 216,
   "metadata": {},
   "outputs": [
    {
     "data": {
      "text/html": [
       "0"
      ],
      "text/latex": [
       "0"
      ],
      "text/markdown": [
       "0"
      ],
      "text/plain": [
       "[1] 0"
      ]
     },
     "metadata": {},
     "output_type": "display_data"
    }
   ],
   "source": [
    "qnorm(0.5)"
   ]
  },
  {
   "cell_type": "code",
   "execution_count": 217,
   "metadata": {},
   "outputs": [
    {
     "data": {
      "text/html": [
       "0.5"
      ],
      "text/latex": [
       "0.5"
      ],
      "text/markdown": [
       "0.5"
      ],
      "text/plain": [
       "[1] 0.5"
      ]
     },
     "metadata": {},
     "output_type": "display_data"
    }
   ],
   "source": [
    "pnorm(0)"
   ]
  },
  {
   "cell_type": "code",
   "execution_count": 218,
   "metadata": {},
   "outputs": [
    {
     "data": {
      "image/png": "[encoded data removed]",
      "text/plain": [
       "plot without title"
      ]
     },
     "metadata": {},
     "output_type": "display_data"
    }
   ],
   "source": [
    "plot(rnorm(100))"
   ]
  },
  {
   "cell_type": "markdown",
   "metadata": {},
   "source": [
    "## Example data sets to play with"
   ]
  },
  {
   "cell_type": "markdown",
   "metadata": {},
   "source": [
    "https://stat.ethz.ch/R-manual/R-devel/library/datasets/html/00Index.html"
   ]
  },
  {
   "cell_type": "code",
   "execution_count": 219,
   "metadata": {
    "collapsed": true
   },
   "outputs": [],
   "source": [
    "library(datasets)"
   ]
  },
  {
   "cell_type": "code",
   "execution_count": 224,
   "metadata": {},
   "outputs": [
    {
     "name": "stdout",
     "output_type": "stream",
     "text": [
      "'data.frame':\t150 obs. of  5 variables:\n",
      " $ Sepal.Length: num  5.1 4.9 4.7 4.6 5 5.4 4.6 5 4.4 4.9 ...\n",
      " $ Sepal.Width : num  3.5 3 3.2 3.1 3.6 3.9 3.4 3.4 2.9 3.1 ...\n",
      " $ Petal.Length: num  1.4 1.4 1.3 1.5 1.4 1.7 1.4 1.5 1.4 1.5 ...\n",
      " $ Petal.Width : num  0.2 0.2 0.2 0.2 0.2 0.4 0.3 0.2 0.2 0.1 ...\n",
      " $ Species     : Factor w/ 3 levels \"setosa\",\"versicolor\",..: 1 1 1 1 1 1 1 1 1 1 ...\n"
     ]
    }
   ],
   "source": [
    "iris"
   ]
  },
  {
   "cell_type": "code",
   "execution_count": 225,
   "metadata": {
    "scrolled": true
   },
   "outputs": [
    {
     "data": {
      "text/plain": [
       "  Sepal.Length    Sepal.Width     Petal.Length    Petal.Width   \n",
       " Min.   :4.300   Min.   :2.000   Min.   :1.000   Min.   :0.100  \n",
       " 1st Qu.:5.100   1st Qu.:2.800   1st Qu.:1.600   1st Qu.:0.300  \n",
       " Median :5.800   Median :3.000   Median :4.350   Median :1.300  \n",
       " Mean   :5.843   Mean   :3.057   Mean   :3.758   Mean   :1.199  \n",
       " 3rd Qu.:6.400   3rd Qu.:3.300   3rd Qu.:5.100   3rd Qu.:1.800  \n",
       " Max.   :7.900   Max.   :4.400   Max.   :6.900   Max.   :2.500  \n",
       "       Species  \n",
       " setosa    :50  \n",
       " versicolor:50  \n",
       " virginica :50  \n",
       "                \n",
       "                \n",
       "                "
      ]
     },
     "metadata": {},
     "output_type": "display_data"
    }
   ],
   "source": [
    "summary(iris)"
   ]
  },
  {
   "cell_type": "markdown",
   "metadata": {
    "collapsed": true
   },
   "source": [
    "# Task\n",
    "\n",
    "Use the 'mean' function in order to calculate the mean sepal length of all virginica flowers. Compare the mean of the sepal of the virginica flowers to that of the setosa flowers.\n",
    "\n",
    "If this is too easy:\n",
    "Write a function that takes a matrix as argument and returns vector of column averages.\n",
    "\n",
    "If this is too easy:\n",
    "Use read.csv to allow a user to read in an arbitrary csv file and calculate the column averages.\n"
   ]
  },
  {
   "cell_type": "code",
   "execution_count": 237,
   "metadata": {},
   "outputs": [
    {
     "data": {
      "text/html": [
       "<table>\n",
       "<thead><tr><th scope=col>Sepal.Length</th><th scope=col>Sepal.Width</th><th scope=col>Petal.Length</th><th scope=col>Petal.Width</th><th scope=col>Species</th></tr></thead>\n",
       "<tbody>\n",
       "\t<tr><td>5.1   </td><td>3.5   </td><td>1.4   </td><td>0.2   </td><td>setosa</td></tr>\n",
       "\t<tr><td>4.9   </td><td>3.0   </td><td>1.4   </td><td>0.2   </td><td>setosa</td></tr>\n",
       "\t<tr><td>4.7   </td><td>3.2   </td><td>1.3   </td><td>0.2   </td><td>setosa</td></tr>\n",
       "\t<tr><td>4.6   </td><td>3.1   </td><td>1.5   </td><td>0.2   </td><td>setosa</td></tr>\n",
       "\t<tr><td>5.0   </td><td>3.6   </td><td>1.4   </td><td>0.2   </td><td>setosa</td></tr>\n",
       "\t<tr><td>5.4   </td><td>3.9   </td><td>1.7   </td><td>0.4   </td><td>setosa</td></tr>\n",
       "\t<tr><td>4.6   </td><td>3.4   </td><td>1.4   </td><td>0.3   </td><td>setosa</td></tr>\n",
       "\t<tr><td>5.0   </td><td>3.4   </td><td>1.5   </td><td>0.2   </td><td>setosa</td></tr>\n",
       "\t<tr><td>4.4   </td><td>2.9   </td><td>1.4   </td><td>0.2   </td><td>setosa</td></tr>\n",
       "\t<tr><td>4.9   </td><td>3.1   </td><td>1.5   </td><td>0.1   </td><td>setosa</td></tr>\n",
       "\t<tr><td>5.4   </td><td>3.7   </td><td>1.5   </td><td>0.2   </td><td>setosa</td></tr>\n",
       "\t<tr><td>4.8   </td><td>3.4   </td><td>1.6   </td><td>0.2   </td><td>setosa</td></tr>\n",
       "\t<tr><td>4.8   </td><td>3.0   </td><td>1.4   </td><td>0.1   </td><td>setosa</td></tr>\n",
       "\t<tr><td>4.3   </td><td>3.0   </td><td>1.1   </td><td>0.1   </td><td>setosa</td></tr>\n",
       "\t<tr><td>5.8   </td><td>4.0   </td><td>1.2   </td><td>0.2   </td><td>setosa</td></tr>\n",
       "\t<tr><td>5.7   </td><td>4.4   </td><td>1.5   </td><td>0.4   </td><td>setosa</td></tr>\n",
       "\t<tr><td>5.4   </td><td>3.9   </td><td>1.3   </td><td>0.4   </td><td>setosa</td></tr>\n",
       "\t<tr><td>5.1   </td><td>3.5   </td><td>1.4   </td><td>0.3   </td><td>setosa</td></tr>\n",
       "\t<tr><td>5.7   </td><td>3.8   </td><td>1.7   </td><td>0.3   </td><td>setosa</td></tr>\n",
       "\t<tr><td>5.1   </td><td>3.8   </td><td>1.5   </td><td>0.3   </td><td>setosa</td></tr>\n",
       "\t<tr><td>5.4   </td><td>3.4   </td><td>1.7   </td><td>0.2   </td><td>setosa</td></tr>\n",
       "\t<tr><td>5.1   </td><td>3.7   </td><td>1.5   </td><td>0.4   </td><td>setosa</td></tr>\n",
       "\t<tr><td>4.6   </td><td>3.6   </td><td>1.0   </td><td>0.2   </td><td>setosa</td></tr>\n",
       "\t<tr><td>5.1   </td><td>3.3   </td><td>1.7   </td><td>0.5   </td><td>setosa</td></tr>\n",
       "\t<tr><td>4.8   </td><td>3.4   </td><td>1.9   </td><td>0.2   </td><td>setosa</td></tr>\n",
       "\t<tr><td>5.0   </td><td>3.0   </td><td>1.6   </td><td>0.2   </td><td>setosa</td></tr>\n",
       "\t<tr><td>5.0   </td><td>3.4   </td><td>1.6   </td><td>0.4   </td><td>setosa</td></tr>\n",
       "\t<tr><td>5.2   </td><td>3.5   </td><td>1.5   </td><td>0.2   </td><td>setosa</td></tr>\n",
       "\t<tr><td>5.2   </td><td>3.4   </td><td>1.4   </td><td>0.2   </td><td>setosa</td></tr>\n",
       "\t<tr><td>4.7   </td><td>3.2   </td><td>1.6   </td><td>0.2   </td><td>setosa</td></tr>\n",
       "\t<tr><td>⋮</td><td>⋮</td><td>⋮</td><td>⋮</td><td>⋮</td></tr>\n",
       "\t<tr><td>6.9      </td><td>3.2      </td><td>5.7      </td><td>2.3      </td><td>virginica</td></tr>\n",
       "\t<tr><td>5.6      </td><td>2.8      </td><td>4.9      </td><td>2.0      </td><td>virginica</td></tr>\n",
       "\t<tr><td>7.7      </td><td>2.8      </td><td>6.7      </td><td>2.0      </td><td>virginica</td></tr>\n",
       "\t<tr><td>6.3      </td><td>2.7      </td><td>4.9      </td><td>1.8      </td><td>virginica</td></tr>\n",
       "\t<tr><td>6.7      </td><td>3.3      </td><td>5.7      </td><td>2.1      </td><td>virginica</td></tr>\n",
       "\t<tr><td>7.2      </td><td>3.2      </td><td>6.0      </td><td>1.8      </td><td>virginica</td></tr>\n",
       "\t<tr><td>6.2      </td><td>2.8      </td><td>4.8      </td><td>1.8      </td><td>virginica</td></tr>\n",
       "\t<tr><td>6.1      </td><td>3.0      </td><td>4.9      </td><td>1.8      </td><td>virginica</td></tr>\n",
       "\t<tr><td>6.4      </td><td>2.8      </td><td>5.6      </td><td>2.1      </td><td>virginica</td></tr>\n",
       "\t<tr><td>7.2      </td><td>3.0      </td><td>5.8      </td><td>1.6      </td><td>virginica</td></tr>\n",
       "\t<tr><td>7.4      </td><td>2.8      </td><td>6.1      </td><td>1.9      </td><td>virginica</td></tr>\n",
       "\t<tr><td>7.9      </td><td>3.8      </td><td>6.4      </td><td>2.0      </td><td>virginica</td></tr>\n",
       "\t<tr><td>6.4      </td><td>2.8      </td><td>5.6      </td><td>2.2      </td><td>virginica</td></tr>\n",
       "\t<tr><td>6.3      </td><td>2.8      </td><td>5.1      </td><td>1.5      </td><td>virginica</td></tr>\n",
       "\t<tr><td>6.1      </td><td>2.6      </td><td>5.6      </td><td>1.4      </td><td>virginica</td></tr>\n",
       "\t<tr><td>7.7      </td><td>3.0      </td><td>6.1      </td><td>2.3      </td><td>virginica</td></tr>\n",
       "\t<tr><td>6.3      </td><td>3.4      </td><td>5.6      </td><td>2.4      </td><td>virginica</td></tr>\n",
       "\t<tr><td>6.4      </td><td>3.1      </td><td>5.5      </td><td>1.8      </td><td>virginica</td></tr>\n",
       "\t<tr><td>6.0      </td><td>3.0      </td><td>4.8      </td><td>1.8      </td><td>virginica</td></tr>\n",
       "\t<tr><td>6.9      </td><td>3.1      </td><td>5.4      </td><td>2.1      </td><td>virginica</td></tr>\n",
       "\t<tr><td>6.7      </td><td>3.1      </td><td>5.6      </td><td>2.4      </td><td>virginica</td></tr>\n",
       "\t<tr><td>6.9      </td><td>3.1      </td><td>5.1      </td><td>2.3      </td><td>virginica</td></tr>\n",
       "\t<tr><td>5.8      </td><td>2.7      </td><td>5.1      </td><td>1.9      </td><td>virginica</td></tr>\n",
       "\t<tr><td>6.8      </td><td>3.2      </td><td>5.9      </td><td>2.3      </td><td>virginica</td></tr>\n",
       "\t<tr><td>6.7      </td><td>3.3      </td><td>5.7      </td><td>2.5      </td><td>virginica</td></tr>\n",
       "\t<tr><td>6.7      </td><td>3.0      </td><td>5.2      </td><td>2.3      </td><td>virginica</td></tr>\n",
       "\t<tr><td>6.3      </td><td>2.5      </td><td>5.0      </td><td>1.9      </td><td>virginica</td></tr>\n",
       "\t<tr><td>6.5      </td><td>3.0      </td><td>5.2      </td><td>2.0      </td><td>virginica</td></tr>\n",
       "\t<tr><td>6.2      </td><td>3.4      </td><td>5.4      </td><td>2.3      </td><td>virginica</td></tr>\n",
       "\t<tr><td>5.9      </td><td>3.0      </td><td>5.1      </td><td>1.8      </td><td>virginica</td></tr>\n",
       "</tbody>\n",
       "</table>\n"
      ],
      "text/latex": [
       "\\begin{tabular}{r|lllll}\n",
       " Sepal.Length & Sepal.Width & Petal.Length & Petal.Width & Species\\\\\n",
       "\\hline\n",
       "\t 5.1    & 3.5    & 1.4    & 0.2    & setosa\\\\\n",
       "\t 4.9    & 3.0    & 1.4    & 0.2    & setosa\\\\\n",
       "\t 4.7    & 3.2    & 1.3    & 0.2    & setosa\\\\\n",
       "\t 4.6    & 3.1    & 1.5    & 0.2    & setosa\\\\\n",
       "\t 5.0    & 3.6    & 1.4    & 0.2    & setosa\\\\\n",
       "\t 5.4    & 3.9    & 1.7    & 0.4    & setosa\\\\\n",
       "\t 4.6    & 3.4    & 1.4    & 0.3    & setosa\\\\\n",
       "\t 5.0    & 3.4    & 1.5    & 0.2    & setosa\\\\\n",
       "\t 4.4    & 2.9    & 1.4    & 0.2    & setosa\\\\\n",
       "\t 4.9    & 3.1    & 1.5    & 0.1    & setosa\\\\\n",
       "\t 5.4    & 3.7    & 1.5    & 0.2    & setosa\\\\\n",
       "\t 4.8    & 3.4    & 1.6    & 0.2    & setosa\\\\\n",
       "\t 4.8    & 3.0    & 1.4    & 0.1    & setosa\\\\\n",
       "\t 4.3    & 3.0    & 1.1    & 0.1    & setosa\\\\\n",
       "\t 5.8    & 4.0    & 1.2    & 0.2    & setosa\\\\\n",
       "\t 5.7    & 4.4    & 1.5    & 0.4    & setosa\\\\\n",
       "\t 5.4    & 3.9    & 1.3    & 0.4    & setosa\\\\\n",
       "\t 5.1    & 3.5    & 1.4    & 0.3    & setosa\\\\\n",
       "\t 5.7    & 3.8    & 1.7    & 0.3    & setosa\\\\\n",
       "\t 5.1    & 3.8    & 1.5    & 0.3    & setosa\\\\\n",
       "\t 5.4    & 3.4    & 1.7    & 0.2    & setosa\\\\\n",
       "\t 5.1    & 3.7    & 1.5    & 0.4    & setosa\\\\\n",
       "\t 4.6    & 3.6    & 1.0    & 0.2    & setosa\\\\\n",
       "\t 5.1    & 3.3    & 1.7    & 0.5    & setosa\\\\\n",
       "\t 4.8    & 3.4    & 1.9    & 0.2    & setosa\\\\\n",
       "\t 5.0    & 3.0    & 1.6    & 0.2    & setosa\\\\\n",
       "\t 5.0    & 3.4    & 1.6    & 0.4    & setosa\\\\\n",
       "\t 5.2    & 3.5    & 1.5    & 0.2    & setosa\\\\\n",
       "\t 5.2    & 3.4    & 1.4    & 0.2    & setosa\\\\\n",
       "\t 4.7    & 3.2    & 1.6    & 0.2    & setosa\\\\\n",
       "\t ⋮ & ⋮ & ⋮ & ⋮ & ⋮\\\\\n",
       "\t 6.9       & 3.2       & 5.7       & 2.3       & virginica\\\\\n",
       "\t 5.6       & 2.8       & 4.9       & 2.0       & virginica\\\\\n",
       "\t 7.7       & 2.8       & 6.7       & 2.0       & virginica\\\\\n",
       "\t 6.3       & 2.7       & 4.9       & 1.8       & virginica\\\\\n",
       "\t 6.7       & 3.3       & 5.7       & 2.1       & virginica\\\\\n",
       "\t 7.2       & 3.2       & 6.0       & 1.8       & virginica\\\\\n",
       "\t 6.2       & 2.8       & 4.8       & 1.8       & virginica\\\\\n",
       "\t 6.1       & 3.0       & 4.9       & 1.8       & virginica\\\\\n",
       "\t 6.4       & 2.8       & 5.6       & 2.1       & virginica\\\\\n",
       "\t 7.2       & 3.0       & 5.8       & 1.6       & virginica\\\\\n",
       "\t 7.4       & 2.8       & 6.1       & 1.9       & virginica\\\\\n",
       "\t 7.9       & 3.8       & 6.4       & 2.0       & virginica\\\\\n",
       "\t 6.4       & 2.8       & 5.6       & 2.2       & virginica\\\\\n",
       "\t 6.3       & 2.8       & 5.1       & 1.5       & virginica\\\\\n",
       "\t 6.1       & 2.6       & 5.6       & 1.4       & virginica\\\\\n",
       "\t 7.7       & 3.0       & 6.1       & 2.3       & virginica\\\\\n",
       "\t 6.3       & 3.4       & 5.6       & 2.4       & virginica\\\\\n",
       "\t 6.4       & 3.1       & 5.5       & 1.8       & virginica\\\\\n",
       "\t 6.0       & 3.0       & 4.8       & 1.8       & virginica\\\\\n",
       "\t 6.9       & 3.1       & 5.4       & 2.1       & virginica\\\\\n",
       "\t 6.7       & 3.1       & 5.6       & 2.4       & virginica\\\\\n",
       "\t 6.9       & 3.1       & 5.1       & 2.3       & virginica\\\\\n",
       "\t 5.8       & 2.7       & 5.1       & 1.9       & virginica\\\\\n",
       "\t 6.8       & 3.2       & 5.9       & 2.3       & virginica\\\\\n",
       "\t 6.7       & 3.3       & 5.7       & 2.5       & virginica\\\\\n",
       "\t 6.7       & 3.0       & 5.2       & 2.3       & virginica\\\\\n",
       "\t 6.3       & 2.5       & 5.0       & 1.9       & virginica\\\\\n",
       "\t 6.5       & 3.0       & 5.2       & 2.0       & virginica\\\\\n",
       "\t 6.2       & 3.4       & 5.4       & 2.3       & virginica\\\\\n",
       "\t 5.9       & 3.0       & 5.1       & 1.8       & virginica\\\\\n",
       "\\end{tabular}\n"
      ],
      "text/markdown": [
       "\n",
       "Sepal.Length | Sepal.Width | Petal.Length | Petal.Width | Species | \n",
       "|---|---|---|---|---|---|---|---|---|---|---|---|---|---|---|---|---|---|---|---|---|---|---|---|---|---|---|---|---|---|---|---|---|---|---|---|---|---|---|---|---|---|---|---|---|---|---|---|---|---|---|---|---|---|---|---|---|---|---|---|---|\n",
       "| 5.1    | 3.5    | 1.4    | 0.2    | setosa | \n",
       "| 4.9    | 3.0    | 1.4    | 0.2    | setosa | \n",
       "| 4.7    | 3.2    | 1.3    | 0.2    | setosa | \n",
       "| 4.6    | 3.1    | 1.5    | 0.2    | setosa | \n",
       "| 5.0    | 3.6    | 1.4    | 0.2    | setosa | \n",
       "| 5.4    | 3.9    | 1.7    | 0.4    | setosa | \n",
       "| 4.6    | 3.4    | 1.4    | 0.3    | setosa | \n",
       "| 5.0    | 3.4    | 1.5    | 0.2    | setosa | \n",
       "| 4.4    | 2.9    | 1.4    | 0.2    | setosa | \n",
       "| 4.9    | 3.1    | 1.5    | 0.1    | setosa | \n",
       "| 5.4    | 3.7    | 1.5    | 0.2    | setosa | \n",
       "| 4.8    | 3.4    | 1.6    | 0.2    | setosa | \n",
       "| 4.8    | 3.0    | 1.4    | 0.1    | setosa | \n",
       "| 4.3    | 3.0    | 1.1    | 0.1    | setosa | \n",
       "| 5.8    | 4.0    | 1.2    | 0.2    | setosa | \n",
       "| 5.7    | 4.4    | 1.5    | 0.4    | setosa | \n",
       "| 5.4    | 3.9    | 1.3    | 0.4    | setosa | \n",
       "| 5.1    | 3.5    | 1.4    | 0.3    | setosa | \n",
       "| 5.7    | 3.8    | 1.7    | 0.3    | setosa | \n",
       "| 5.1    | 3.8    | 1.5    | 0.3    | setosa | \n",
       "| 5.4    | 3.4    | 1.7    | 0.2    | setosa | \n",
       "| 5.1    | 3.7    | 1.5    | 0.4    | setosa | \n",
       "| 4.6    | 3.6    | 1.0    | 0.2    | setosa | \n",
       "| 5.1    | 3.3    | 1.7    | 0.5    | setosa | \n",
       "| 4.8    | 3.4    | 1.9    | 0.2    | setosa | \n",
       "| 5.0    | 3.0    | 1.6    | 0.2    | setosa | \n",
       "| 5.0    | 3.4    | 1.6    | 0.4    | setosa | \n",
       "| 5.2    | 3.5    | 1.5    | 0.2    | setosa | \n",
       "| 5.2    | 3.4    | 1.4    | 0.2    | setosa | \n",
       "| 4.7    | 3.2    | 1.6    | 0.2    | setosa | \n",
       "| ⋮ | ⋮ | ⋮ | ⋮ | ⋮ | \n",
       "| 6.9       | 3.2       | 5.7       | 2.3       | virginica | \n",
       "| 5.6       | 2.8       | 4.9       | 2.0       | virginica | \n",
       "| 7.7       | 2.8       | 6.7       | 2.0       | virginica | \n",
       "| 6.3       | 2.7       | 4.9       | 1.8       | virginica | \n",
       "| 6.7       | 3.3       | 5.7       | 2.1       | virginica | \n",
       "| 7.2       | 3.2       | 6.0       | 1.8       | virginica | \n",
       "| 6.2       | 2.8       | 4.8       | 1.8       | virginica | \n",
       "| 6.1       | 3.0       | 4.9       | 1.8       | virginica | \n",
       "| 6.4       | 2.8       | 5.6       | 2.1       | virginica | \n",
       "| 7.2       | 3.0       | 5.8       | 1.6       | virginica | \n",
       "| 7.4       | 2.8       | 6.1       | 1.9       | virginica | \n",
       "| 7.9       | 3.8       | 6.4       | 2.0       | virginica | \n",
       "| 6.4       | 2.8       | 5.6       | 2.2       | virginica | \n",
       "| 6.3       | 2.8       | 5.1       | 1.5       | virginica | \n",
       "| 6.1       | 2.6       | 5.6       | 1.4       | virginica | \n",
       "| 7.7       | 3.0       | 6.1       | 2.3       | virginica | \n",
       "| 6.3       | 3.4       | 5.6       | 2.4       | virginica | \n",
       "| 6.4       | 3.1       | 5.5       | 1.8       | virginica | \n",
       "| 6.0       | 3.0       | 4.8       | 1.8       | virginica | \n",
       "| 6.9       | 3.1       | 5.4       | 2.1       | virginica | \n",
       "| 6.7       | 3.1       | 5.6       | 2.4       | virginica | \n",
       "| 6.9       | 3.1       | 5.1       | 2.3       | virginica | \n",
       "| 5.8       | 2.7       | 5.1       | 1.9       | virginica | \n",
       "| 6.8       | 3.2       | 5.9       | 2.3       | virginica | \n",
       "| 6.7       | 3.3       | 5.7       | 2.5       | virginica | \n",
       "| 6.7       | 3.0       | 5.2       | 2.3       | virginica | \n",
       "| 6.3       | 2.5       | 5.0       | 1.9       | virginica | \n",
       "| 6.5       | 3.0       | 5.2       | 2.0       | virginica | \n",
       "| 6.2       | 3.4       | 5.4       | 2.3       | virginica | \n",
       "| 5.9       | 3.0       | 5.1       | 1.8       | virginica | \n",
       "\n",
       "\n"
      ],
      "text/plain": [
       "    Sepal.Length Sepal.Width Petal.Length Petal.Width Species  \n",
       "1   5.1          3.5         1.4          0.2         setosa   \n",
       "2   4.9          3.0         1.4          0.2         setosa   \n",
       "3   4.7          3.2         1.3          0.2         setosa   \n",
       "4   4.6          3.1         1.5          0.2         setosa   \n",
       "5   5.0          3.6         1.4          0.2         setosa   \n",
       "6   5.4          3.9         1.7          0.4         setosa   \n",
       "7   4.6          3.4         1.4          0.3         setosa   \n",
       "8   5.0          3.4         1.5          0.2         setosa   \n",
       "9   4.4          2.9         1.4          0.2         setosa   \n",
       "10  4.9          3.1         1.5          0.1         setosa   \n",
       "11  5.4          3.7         1.5          0.2         setosa   \n",
       "12  4.8          3.4         1.6          0.2         setosa   \n",
       "13  4.8          3.0         1.4          0.1         setosa   \n",
       "14  4.3          3.0         1.1          0.1         setosa   \n",
       "15  5.8          4.0         1.2          0.2         setosa   \n",
       "16  5.7          4.4         1.5          0.4         setosa   \n",
       "17  5.4          3.9         1.3          0.4         setosa   \n",
       "18  5.1          3.5         1.4          0.3         setosa   \n",
       "19  5.7          3.8         1.7          0.3         setosa   \n",
       "20  5.1          3.8         1.5          0.3         setosa   \n",
       "21  5.4          3.4         1.7          0.2         setosa   \n",
       "22  5.1          3.7         1.5          0.4         setosa   \n",
       "23  4.6          3.6         1.0          0.2         setosa   \n",
       "24  5.1          3.3         1.7          0.5         setosa   \n",
       "25  4.8          3.4         1.9          0.2         setosa   \n",
       "26  5.0          3.0         1.6          0.2         setosa   \n",
       "27  5.0          3.4         1.6          0.4         setosa   \n",
       "28  5.2          3.5         1.5          0.2         setosa   \n",
       "29  5.2          3.4         1.4          0.2         setosa   \n",
       "30  4.7          3.2         1.6          0.2         setosa   \n",
       "⋮   ⋮            ⋮           ⋮            ⋮           ⋮        \n",
       "121 6.9          3.2         5.7          2.3         virginica\n",
       "122 5.6          2.8         4.9          2.0         virginica\n",
       "123 7.7          2.8         6.7          2.0         virginica\n",
       "124 6.3          2.7         4.9          1.8         virginica\n",
       "125 6.7          3.3         5.7          2.1         virginica\n",
       "126 7.2          3.2         6.0          1.8         virginica\n",
       "127 6.2          2.8         4.8          1.8         virginica\n",
       "128 6.1          3.0         4.9          1.8         virginica\n",
       "129 6.4          2.8         5.6          2.1         virginica\n",
       "130 7.2          3.0         5.8          1.6         virginica\n",
       "131 7.4          2.8         6.1          1.9         virginica\n",
       "132 7.9          3.8         6.4          2.0         virginica\n",
       "133 6.4          2.8         5.6          2.2         virginica\n",
       "134 6.3          2.8         5.1          1.5         virginica\n",
       "135 6.1          2.6         5.6          1.4         virginica\n",
       "136 7.7          3.0         6.1          2.3         virginica\n",
       "137 6.3          3.4         5.6          2.4         virginica\n",
       "138 6.4          3.1         5.5          1.8         virginica\n",
       "139 6.0          3.0         4.8          1.8         virginica\n",
       "140 6.9          3.1         5.4          2.1         virginica\n",
       "141 6.7          3.1         5.6          2.4         virginica\n",
       "142 6.9          3.1         5.1          2.3         virginica\n",
       "143 5.8          2.7         5.1          1.9         virginica\n",
       "144 6.8          3.2         5.9          2.3         virginica\n",
       "145 6.7          3.3         5.7          2.5         virginica\n",
       "146 6.7          3.0         5.2          2.3         virginica\n",
       "147 6.3          2.5         5.0          1.9         virginica\n",
       "148 6.5          3.0         5.2          2.0         virginica\n",
       "149 6.2          3.4         5.4          2.3         virginica\n",
       "150 5.9          3.0         5.1          1.8         virginica"
      ]
     },
     "metadata": {},
     "output_type": "display_data"
    }
   ],
   "source": [
    "library(datasets)\n",
    "\n",
    "iris\n",
    "\n"
   ]
  },
  {
   "cell_type": "code",
   "execution_count": 253,
   "metadata": {
    "collapsed": true
   },
   "outputs": [],
   "source": [
    "virginica.indices = which(iris$Species == 'virginica')\n",
    "setosa.indices = which(iris$Species == 'setosa')\n",
    "virginica.sepal.mean = mean(iris$Sepal.Length[virginica.indices])\n",
    "setosa.sepal.mean = mean(iris$Sepal.Length[iris$Species == 'setosa'])"
   ]
  },
  {
   "cell_type": "code",
   "execution_count": 254,
   "metadata": {},
   "outputs": [
    {
     "name": "stdout",
     "output_type": "stream",
     "text": [
      "Sepal length of Virginica 6.588 \n",
      "Sepal length of Setosa 5.006 \n"
     ]
    }
   ],
   "source": [
    "cat('Sepal length of Virginica', virginica.sepal.mean, '\\n')\n",
    "cat('Sepal length of Setosa', setosa.sepal.mean, '\\n')\n"
   ]
  },
  {
   "cell_type": "code",
   "execution_count": 255,
   "metadata": {},
   "outputs": [
    {
     "name": "stdout",
     "output_type": "stream",
     "text": [
      "[1] \"Virginica sepal seem to be larger on average\"\n"
     ]
    }
   ],
   "source": [
    "if (virginica.sepal.mean > setosa.sepal.mean)\n",
    "    print('Virginica sepal seem to be larger on average') else\n",
    "    print('Virginica sepal seem to be smaller on average')\n",
    "        "
   ]
  }
 ],
 "metadata": {
  "kernelspec": {
   "display_name": "R",
   "language": "R",
   "name": "ir"
  },
  "language_info": {
   "codemirror_mode": "r",
   "file_extension": ".r",
   "mimetype": "text/x-r-source",
   "name": "R",
   "pygments_lexer": "r",
   "version": "3.3.3"
  }
 },
 "nbformat": 4,
 "nbformat_minor": 2
}
